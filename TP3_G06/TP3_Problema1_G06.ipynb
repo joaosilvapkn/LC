{
 "cells": [
  {
   "cell_type": "markdown",
   "id": "d81113c5",
   "metadata": {},
   "source": [
    "$\\large Logica \\  Computacional\\ 23-Novembro-2023 \\ LCC$\n",
    "\n",
    "$\\textbf{Grupo 06:}$\n",
    "\n",
    "* João Manuel Franqueira da Silva, A91638\n",
    "* Eduardo Manuel Sousa Pereira, A70619\n",
    "\n",
    "$\\huge TP3 - Problema\\ 1 $"
   ]
  },
  {
   "cell_type": "code",
   "execution_count": null,
   "id": "f6ed6c72",
   "metadata": {},
   "outputs": [],
   "source": [
    "from pysmt.shortcuts import *\n",
    "import pysmt.typing as types\n",
    "import random as rn\n",
    "from pysmt.typing import BOOL, REAL, INT, BVType, STRING\n",
    "from IPython.display import Latex\n",
    "import itertools"
   ]
  },
  {
   "cell_type": "markdown",
   "id": "c302f1d3",
   "metadata": {},
   "source": [
    "   O algoritmo estendido de Euclides (EXA) aceita dois inteiros constantes  $\\,a,b>0\\,$  e devolve inteiros $r,s,t\\,$ tais que  $\\,a*s + b*t = r\\,$  e  $\\,r = \\gcd(a,b)\\,$. \n",
    "    Para além das variáveis $\\,r,s,t\\,$ o código requer 3 variáveis adicionais $\\,r',s',t'\\,$ que representam os valores de $\\,r,s,t\\,$ no “próximo estado”.   "
   ]
  },
  {
   "cell_type": "markdown",
   "id": "774b27b7",
   "metadata": {},
   "source": [
    "```python\n",
    "    INPUT  a, b : Int\n",
    "0:    assume  a > 0 and b > 0 and a < N and b < N\n",
    "      r, r', s, s', t, t' = a, b, 1, 0, 0, 1\n",
    "1:    while r' != 0\n",
    "        q = r div r'\n",
    "2:      r, r', s, s', t, t' = r', r − q × r', s', s − q × s', t', t − q × t' \n",
    "3:    OUTPUT r, s, t\n",
    "```"
   ]
  },
  {
   "cell_type": "markdown",
   "id": "a0c0d69a",
   "metadata": {},
   "source": [
    "Como o solver $msat$ não suporta operações de divisão e multiplicações não lineares, teremos que acrescentar mais 4 variávies e 2 transições:\n",
    "1. $aux$ que calcula recursivamente o valor de $r$ div $r\\_$ no estado 1, incrementando o valor de $q$ e decrementando o seu valor por $r\\_$ até não poder se efetuar mais subtrações, seguindo então para o estado 2.\n",
    "\n",
    "2. $auxr$, $auxs$ e $auxt$ que calculam recursivamente no estado 2, o valor de $q$ * $r\\_$, $q$ * $s\\_$, $q$ * $t\\_$, respetivamente, decrementando $q$ até este chegar a 0, e ao mesmo tempo, somando a estas novas variáveis $r\\_$, $s\\_$, $t\\_$, respetivamente, $q$ vezes, e voltando novamente ao estado 1."
   ]
  },
  {
   "cell_type": "markdown",
   "id": "b93d1b04",
   "metadata": {},
   "source": [
    "${\\normalsize\\text{Construção de um FOTS que descreva o comportamento do programa.}}$ "
   ]
  },
  {
   "cell_type": "markdown",
   "id": "9aa86a41",
   "metadata": {},
   "source": [
    "Vamos começar por declarar as variáveis relativas ao nosso problema.\n",
    "\n",
    "Podemos ainda considerar uma variável $pc$ que indicará a instrução em que nos encontramos."
   ]
  },
  {
   "cell_type": "code",
   "execution_count": null,
   "id": "9090e62d",
   "metadata": {},
   "outputs": [],
   "source": [
    "NN=40\n",
    "\n",
    "def genState(vars,s,i):\n",
    "    state = {}\n",
    "    for v in vars:\n",
    "        state[v] = Symbol(v+'!'+s+str(i),INT)\n",
    "    return state\n",
    "\n",
    "def declare1(i):\n",
    "    state = {}    \n",
    "    state['pc'] = Symbol('pc'+str(i),INT)\n",
    "    state['r'] = Symbol('r'+str(i),INT)\n",
    "    state['s'] = Symbol('s'+str(i),INT)\n",
    "    state['t'] = Symbol('t'+str(i),INT)\n",
    "    state['q'] = Symbol('q'+str(i),INT)\n",
    "    state['r_'] = Symbol('r_'+str(i),INT)\n",
    "    state['s_'] = Symbol('s_'+str(i),INT)\n",
    "    state['t_'] = Symbol('t_'+str(i),INT)\n",
    "    state['aux'] = Symbol('aux'+str(i),INT)\n",
    "    state['auxr'] = Symbol('auxr'+str(i),INT)\n",
    "    state['auxs'] = Symbol('auxs'+str(i),INT)\n",
    "    state['auxt'] = Symbol('auxt'+str(i),INT)\n",
    "    return state"
   ]
  },
  {
   "cell_type": "markdown",
   "id": "e2b3f1be",
   "metadata": {},
   "source": [
    "Definimos então o predicado $init$, que dado um estado e dois inteiros $a$ e $b$ verifica se este é um estado inicial válido, atribuindo os valores da $a$ a $r$ e de $b$ a $r\\_$ precisamos de observar a pré-condição do nosso programa:\n",
    "\n",
    "$ a > 0 \\quad \\text{\\(\\land\\)} \\quad b > 0 \\quad \\text{\\(\\land\\)} \\quad r=a \\quad \\text{\\(\\land\\)} \\quad r\\_=b \\quad \\text{\\(\\land\\)} \\quad s=1 \\quad \\text{\\(\\land\\)} \\quad s\\_=0 \\quad \\text{\\(\\land\\)} \\quad t=0 \\quad \\text{\\(\\land\\)} \\quad t\\_=1 \\quad \\text{\\(\\land\\)} \\quad pc=0$\n",
    "\n",
    "As variáveis nao referenciadas no início do programa podem ser inicializadas iguais a 0."
   ]
  },
  {
   "cell_type": "code",
   "execution_count": null,
   "id": "d4a81353",
   "metadata": {},
   "outputs": [],
   "source": [
    "def init1(state,a,b):\n",
    "    A=Equals(state['r'],Int(a))\n",
    "    B=Equals(state['r_'],Int(b))\n",
    "    C=Equals(state['pc'],Int(0))\n",
    "    D=Equals(state['s'],Int(1))\n",
    "    E=Equals(state['t'],Int(0)) \n",
    "    F=Equals(state['s_'],Int(0))\n",
    "    G=Equals(state['t_'],Int(1))\n",
    "    H=Equals(state['q'],Int(0))\n",
    "    K=Equals(state['aux'],Int(0))\n",
    "    r=And(A,B,C,D,E,F,G,H,K)\n",
    "    return r"
   ]
  },
  {
   "cell_type": "markdown",
   "id": "4740ffde",
   "metadata": {},
   "source": [
    "Definimos agora a função transição que recebe dois estados como argumento, o atual $(curr)$ e o que pretendemos transitar para $(prox)$, e verifica se esses dois estados se referem a uma transição válida do programa.\n",
    "\n",
    "Referindo às variáveis do estado $curr$ por: $pc$, $r$, $r\\_$, $s$, $s\\_$, $t$, $t\\_$, $q$, $aux$, $auxr$, $auxs$, $auxt$\n",
    "\n",
    "E do estado $prox$ por: $pc'$, $r'$, $r\\_'$, $s'$, $s\\_'$, $t'$, $t\\_'$, $q'$, $aux'$, $auxr'$, $auxs'$, $auxt'$\n",
    "\n",
    "Temos então as seguintes transições possíveis:\n",
    "\n",
    "\n",
    "Quando a variável $pc$ tiver valor 0, no próximo estado do programa iremos estar na condição do ciclo while, ou seja, $pc '$ vai ter o valor 1 e todas as variáveis mantêm o mesmo valor. Atribuimos também o valor de $r$ a $aux'$, para este poder calcular a divisão no próximo estado.\n",
    "\n",
    "- $pc=0\\quad \\text{\\(\\land\\)} \\quad pc'=1 \\quad \\text{\\(\\land\\)} \\quad r'=r \\quad \\text{\\(\\land\\)} \\quad r\\_'=r\\_ \\quad \\text{\\(\\land\\)} \\quad s'=s \\quad \\text{\\(\\land\\)} \\quad s\\_'=s\\_ \\quad \\text{\\(\\land\\)} \\quad t'=t \\quad \\text{\\(\\land\\)} \\quad t\\_'=t\\_ \\quad \\text{\\(\\land\\)} \\quad aux'=r$\n",
    "\n",
    "Quando a variável $pc$ tiver o valor 1 podemos prosseguir para 3 estados: \n",
    "\n",
    "1. Se $r\\_$$\\text{\\(\\neq\\)}$0 e $aux$$\\text{\\(\\neq\\)}$0, sabemos que o valor total da divisão entre $r$ e $r\\_$ ainda não foi calculado, então continuamos no estado 1, subtraindo $r\\_$ a $aux$ e incrementado $q$, mantemos os valores das variáveis principais e efetuamos:\n",
    "\n",
    "- $q'=q+1 \\quad \\text{\\(\\land\\)} \\quad aux'=aux-r\\_$\n",
    "\n",
    "2. Se $r\\_$$\\text{\\(\\neq\\)}$0 e $aux$<$r\\_$, sabemos que neste momento, $q$ tem o valor exato de $r//r\\_$, então entramos dentro do ciclo, $pc'$ terá o valor 2, os valores das variáveis são mantidas e inicializamos $auxr\\_'$, $auxs\\_'$ e $auxt\\_'$ a 0.\n",
    "    \n",
    "- $pc=1\\quad \\text{\\(\\land\\)} \\quad pc'=2 \\quad \\text{\\(\\land\\)} \\quad r\\_\\text{\\(\\neq\\)}0 \\quad \\text{\\(\\land\\)} \\quad r'=r \\quad \\text{\\(\\land\\)} \\quad r\\_'=r\\_ \\quad \\text{\\(\\land\\)} \\quad s'=s \\quad \\text{\\(\\land\\)} \\quad s\\_'=s\\_ \\quad \\text{\\(\\land\\)} \\quad t'=t \\quad \\text{\\(\\land\\)} \\quad t\\_'=t\\_ \\quad \\text{\\(\\land\\)}  auxr\\_'==auxs\\_'==aux\\_'==0$\n",
    "   \n",
    "3. Caso contrário, a condição do ciclo não é satisfeita, e $pc'$ terá o valor 3 e os valores das variáveis são mantidos.\n",
    "\n",
    "- $pc=1\\quad \\text{\\(\\land\\)} \\quad pc'=3 \\quad \\text{\\(\\land\\)} \\quad r\\_=0 \\quad \\text{\\(\\land\\)} \\quad r'=r \\quad \\text{\\(\\land\\)} \\quad r\\_'=r\\_ \\quad \\text{\\(\\land\\)} \\quad s'=s \\quad \\text{\\(\\land\\)} \\quad s\\_'=s\\_ \\quad \\text{\\(\\land\\)} \\quad t'=t \\quad \\text{\\(\\land\\)} \\quad t\\_'=t\\_$\n",
    "\n",
    "Quando $pc$ tiver o valor 2, e $q$$\\text{\\(\\neq\\)}$0 sabemos que ainda não efetuamos suficientes somas para guardar o valor de $q*r\\_$ em $auxr$, $q*s\\_$ em $auxs$, e $q*t\\_$ em $auxt$, então decrementamos $q$, mantemo-nos no estado 2, guardamos o valor das restantes variáveis e efetuamos.\n",
    "- $auxr'=auxr+r\\_ \\quad \\text{\\(\\land\\)} \\quad auxs'=auxs+s\\_ \\quad \\text{\\(\\land\\)} \\quad auxt'=auxt+t\\_ \\quad \\text{\\(\\land\\)} \\quad q'=q-1$\n",
    "\n",
    "Quando $pc$ tiver o valor 2 e q==0 sabemos que já temos os valores das multiplicações armazenados, entao:\n",
    "\n",
    "- $pc=2\\quad \\text{\\(\\land\\)} \\quad pc'=1 \\quad \\text{\\(\\land\\)} \\quad r\\_!=0 \\quad \\text{\\(\\land\\)} \\quad q=r/r\\_ \\quad \\text{\\(\\land\\)} \\quad r\\_'=r-auxr \\quad \\text{\\(\\land\\)} \\quad s\\_'=s-auxs \\quad \\text{\\(\\land\\)} \\quad t\\_'=t-auxt \\quad \\text{\\(\\land\\)} \\quad r'=r\\_ \\quad \\text{\\(\\land\\)} \\quad s'=s\\_ \\quad \\text{\\(\\land\\)} \\quad t'=t\\_$\n",
    "\n",
    "\n",
    "Por último podemos definir ainda uma transição do estado final para ele próprio, em que o $pc$, tal como as variavéis se mantêm.\n",
    "\n",
    "- $pc=3\\quad \\text{\\(\\land\\)} \\quad pc'=3 \\quad \\text{\\(\\land\\)} \\quad r'=r \\quad \\text{\\(\\land\\)} \\quad r\\_'=r\\_ \\quad \\text{\\(\\land\\)} \\quad s'=s \\quad \\text{\\(\\land\\)} \\quad s\\_'=s\\_ \\quad \\text{\\(\\land\\)} \\quad t'=t \\quad \\text{\\(\\land\\)} \\quad t\\_'=t\\_$"
   ]
  },
  {
   "cell_type": "code",
   "execution_count": null,
   "id": "30d7ad38",
   "metadata": {},
   "outputs": [],
   "source": [
    "def trans1(curr,prox):  #r//r_ --- a//b\n",
    "    #0 - 1\n",
    "    A=Equals(curr['pc'],Int(0))\n",
    "    B=Equals(prox['pc'],Int(1))\n",
    "    C=Equals(prox['r'],curr['r'])\n",
    "    D=Equals(prox['s'],curr['s'])\n",
    "    E=Equals(prox['t'],curr['t'])\n",
    "    F=Equals(prox['r_'],curr['r_'])\n",
    "    G=Equals(prox['s_'],curr['s_'])\n",
    "    H=Equals(prox['t_'],curr['t_'])\n",
    "    I=Equals(prox['q'],curr['q'])\n",
    "    J=Equals(prox['aux'],curr['r'])\n",
    "    t01=And(A,B,C,D,E,F,G,H,I,J)  \n",
    "   \n",
    "    #1 - 1                        #enquanto pode dividir (a calcular o q...) e so quando r_!=0\n",
    "    a=Equals(curr['pc'],Int(1))\n",
    "    b=Equals(prox['pc'],Int(1))\n",
    "    c=GE(curr['aux'],curr['r_'])\n",
    "    d=Equals(prox['aux'],Minus(curr['aux'],curr['r_']))\n",
    "    e=Equals(prox['q'],Plus(Int(1),curr['q']))\n",
    "    f=Equals(prox['r'],curr['r'])\n",
    "    g=Equals(prox['s'],curr['s'])\n",
    "    h=Equals(prox['t'],curr['t'])\n",
    "    i=Equals(prox['r_'],curr['r_'])\n",
    "    j=Equals(prox['s_'],curr['s_'])\n",
    "    k=Equals(prox['t_'],curr['t_'])\n",
    "    l=Not(Equals(curr['r_'],Int(0)))\n",
    "    t11=And(a,b,c,d,e,f,g,h,i,j,k,l)\n",
    "    \n",
    "    #1-2                          #quando o q ja esta calculado (passa para o 2)\n",
    "    a=Equals(curr['pc'],Int(1))\n",
    "    b=Equals(prox['pc'],Int(2))\n",
    "    c=Not(GE(curr['aux'],curr['r_']))\n",
    "    d=Equals(prox['r'],curr['r'])\n",
    "    e=Equals(prox['s'],curr['s'])\n",
    "    f=Equals(prox['t'],curr['t'])\n",
    "    g=Equals(prox['r_'],curr['r_'])\n",
    "    h=Equals(prox['s_'],curr['s_'])\n",
    "    i=Equals(prox['t_'],curr['t_'])\n",
    "    j=Equals(prox['q'],curr['q'])\n",
    "    k=Equals(prox['auxr'],Int(0))\n",
    "    l=Equals(prox['auxs'],Int(0))\n",
    "    m=Equals(prox['auxt'],Int(0))\n",
    "    t12=And(a,b,c,d,e,f,g,h,i,j,k,l,m)\n",
    "    \n",
    "    #2-2     #incrementa o auxr , auxs, auxt com r_,s_,t_ e decrementa o q, assim acabam ao mesmo tempo\n",
    "    a=Equals(curr['pc'],Int(2))\n",
    "    b=Equals(prox['pc'],Int(2))\n",
    "    c=GE(curr['q'],Int(1))\n",
    "    d=Equals(prox['q'],Minus(curr['q'],Int(1)))   #q decrementa\n",
    "    e=Equals(prox['auxr'],Plus(curr['auxr'],curr['r_']))  #aumenta os auxs todos\n",
    "    f=Equals(prox['auxs'],Plus(curr['auxs'],curr['s_']))\n",
    "    g=Equals(prox['auxt'],Plus(curr['auxt'],curr['t_']))\n",
    "    h=Equals(prox['r'],curr['r'])\n",
    "    i=Equals(prox['s'],curr['s'])\n",
    "    j=Equals(prox['t'],curr['t'])\n",
    "    k=Equals(prox['r_'],curr['r_'])\n",
    "    l=Equals(prox['s_'],curr['s_'])\n",
    "    m=Equals(prox['t_'],curr['t_'])\n",
    "    t22=And(a,b,c,d,e,f,g,h,i,j,k,l,m)\n",
    "    \n",
    "    #2-1     auxs tem os valors de q*r_ , q*s_, q*t_ agora precisamos de voltar ao inicio do ciclo\n",
    "    a=Equals(curr['pc'],Int(2))\n",
    "    b=Equals(prox['pc'],Int(1))\n",
    "    c=Not(GE(curr['q'],Int(1)))\n",
    "    d=Equals(prox['r'],curr['r_'])\n",
    "    e=Equals(prox['s'],curr['s_'])\n",
    "    f=Equals(prox['t'],curr['t_'])\n",
    "    g=Equals(prox['r_'],Minus(curr['r'],curr['auxr']))\n",
    "    h=Equals(prox['s_'],Minus(curr['s'],curr['auxs']))\n",
    "    i=Equals(prox['t_'],Minus(curr['t'],curr['auxt']))\n",
    "    j=Equals(prox['q'],Int(0))\n",
    "    k=Equals(prox['aux'],prox['r'])\n",
    "    t21=And(a,b,c,d,e,f,g,h,i,j,k) \n",
    "    \n",
    "    #1-3\n",
    "    a=Equals(curr['pc'],Int(1))\n",
    "    b=Equals(prox['pc'],Int(3))\n",
    "    c=Equals(prox['r'],curr['r'])\n",
    "    d=Equals(prox['s'],curr['s'])\n",
    "    e=Equals(prox['t'],curr['t'])\n",
    "    f=Equals(prox['r_'],curr['r_'])\n",
    "    g=Equals(prox['s_'],curr['s_'])\n",
    "    h=Equals(prox['t_'],curr['t_'])\n",
    "    i=Equals(curr['r_'],Int(0))\n",
    "    t13=And(a,b,c,d,e,f,g,h,i)\n",
    "    \n",
    "    #3-3\n",
    "    a=Equals(curr['pc'],Int(3))\n",
    "    b=Equals(prox['pc'],Int(3))\n",
    "    c=Equals(prox['r'],curr['r'])\n",
    "    d=Equals(prox['s'],curr['s'])\n",
    "    e=Equals(prox['t'],curr['t'])\n",
    "    f=Equals(prox['r_'],curr['r_'])\n",
    "    g=Equals(prox['s_'],curr['s_'])\n",
    "    h=Equals(prox['t_'],curr['t_'])\n",
    "    t33=And(a,b,c,d,e,f,g,h)\n",
    "    return Or(t01,t11,t12,t22,t21,t13,t33)"
   ]
  },
  {
   "cell_type": "markdown",
   "id": "651d068f",
   "metadata": {},
   "source": [
    "Temos a função $genTrace$, que, ao receber um $a$ e um $b$, cria uma lista $X$de $n+1$ estados em que:\n",
    "\n",
    "- Aplicamos a função init ao primeiro estado: $init1 (X[0], a, b)$\n",
    "\n",
    "- Para todos estado consecutivos $S$, $S'$, aplicamos a função transição: $\\forall_{i=0}^{n}$ $trans1 (X[i], X[i+1])$"
   ]
  },
  {
   "cell_type": "code",
   "execution_count": null,
   "id": "a5f55282",
   "metadata": {},
   "outputs": [],
   "source": [
    "def genTrace(vars,init1,trans1,n,a,b):\n",
    "    with Solver(name=\"z3\") as s:\n",
    "        X = [genState(vars,'X',i) for i in range(n+1)]   # cria n+1 estados (com etiqueta X)\n",
    "        I = init1(X[0],a,b)\n",
    "        Tks = [ trans1(X[i],X[i+1]) for i in range(n) ]\n",
    "        \n",
    "        if s.solve([I,And(Tks)]):      # testa se I /\\ T^n  é satisfazível\n",
    "            for i in range(n):\n",
    "                print(\"Estado:\",i)\n",
    "                for v in X[i]:\n",
    "                    print(\"          \",v,'=',s.get_value(X[i][v]))"
   ]
  },
  {
   "cell_type": "markdown",
   "id": "9e308357",
   "metadata": {},
   "source": [
    "2. Considere como propriedade de segurança\n",
    "                    `safety = (r > 0) and (r < N) and (r = a*s + b*t`)\n",
    "    Prove usando $k$-indução que esta propriedade se verifica em qualquer traço do FOTS"
   ]
  },
  {
   "cell_type": "markdown",
   "id": "a749d5a8",
   "metadata": {},
   "source": [
    "Definimos então o predicado safety, que verifica se um estado $S$ cumpre a relação de bezout, e se $0<S(r)<NN$"
   ]
  },
  {
   "cell_type": "code",
   "execution_count": null,
   "id": "f6c35beb",
   "metadata": {},
   "outputs": [],
   "source": [
    "def safety(s,x,y):\n",
    "    return And(GT(s['r'],Int(0)),LT(s['r'],Int(NN)),Equals(s['r'],Plus(Times(s['s'],Int(x)),Times(s['t'],Int(y)))))"
   ]
  },
  {
   "cell_type": "markdown",
   "id": "1dc29b6b",
   "metadata": {},
   "source": [
    "Queremos verificar este predicado é um invariante do sistema, para verificar esta propriedade, podemos utilizar o método da k_indução que consiste em:\n",
    "\n",
    "- $\\phi$ é válido nos estados iniciais, ou seja, $\\mathit{init}(s) \\rightarrow \\phi(s)$\n",
    "\n",
    "- Para qualquer estado, assumindo que $\\phi$ é verdade, se executarmos uma transição, $\\phi$ continua a ser verdade no próximo estado, ou seja, $\\phi(s) \\wedge \\mathit{trans}(s,s') \\rightarrow \\phi(s')$.\n",
    "\n",
    "Um processo parecido com este seria generalizar a indução assumindo no passo indutivo que o invariante é válido nos $k$ estados anteriores. "
   ]
  },
  {
   "cell_type": "code",
   "execution_count": null,
   "id": "db9915b9",
   "metadata": {},
   "outputs": [],
   "source": [
    "def k_induction_always(vars,init1,trans1,safety,k,x1,y1):\n",
    "    if(x1>0 and y1>0):\n",
    "        with Solver(name=\"z3\") as solver:\n",
    "            X = [genState(vars,'X',i) for i in range(k+1)]  \n",
    "            solver.add_assertion(init1(X[0],x1,y1))\n",
    "            for i in range(k-1):\n",
    "                solver.add_assertion(trans1(X[i],X[i+1]))\n",
    "\n",
    "            for i in range(k):\n",
    "                solver.push()\n",
    "                solver.add_assertion(Not(safety(X[i],x1,y1)))\n",
    "                if solver.solve():\n",
    "                    print(f\"> Contradição! O invariante não se verifica nos k estados iniciais.\")\n",
    "                    for st in s:\n",
    "                        print(f\" pc = {solver.get_value(st['pc'])}\",end=\" \")\n",
    "                        print(f\" r = {solver.get_value(st['r'])}\",end=\" \")\n",
    "                        print(f\" s = {solver.get_value(st['s'])}\",end=\" \")\n",
    "                        print(f\" t = {solver.get_value(st['t'])}\")\n",
    "                        print(f\" r_ = {solver.get_value(st['r_'])}\",end=\" \")\n",
    "                        print(f\" s_ = {solver.get_value(st['s_'])}\",end=\" \")\n",
    "                        print(f\" t_ = {solver.get_value(st['t_'])}\",end=\" \")\n",
    "                        print(f\" q = {solver.get_value(st['q'])}\",end=\" \")\n",
    "                        print(\"---------------------------------------------------------\")\n",
    "                        print()\n",
    "\n",
    "                    return\n",
    "                solver.pop()\n",
    "\n",
    "\n",
    "            X2 =[genState(vars,'X2',i) for i in range(k+2)]\n",
    "        \n",
    "            solver.add_assertion(Equals(X2[0]['r'],Int(x1)))\n",
    "            solver.add_assertion(Equals(X2[0]['r_'],Int(y1)))\n",
    "            for i in range(k+1):\n",
    "                solver.add_assertion(safety(X2[i],x1,y1))\n",
    "                solver.add_assertion(trans1(X2[i],X2[i+1]))\n",
    "\n",
    "            solver.add_assertion(Not(safety(X2[-1],x1,y1)))\n",
    "\n",
    "            if solver.solve():\n",
    "                print(f\"> Contradição! O passo indutivo não se verifica.\")\n",
    "                return\n",
    "            print(f\"> A propriedade verifica-se por k-indução (k={k}).\")"
   ]
  },
  {
   "cell_type": "markdown",
   "id": "5b228e11",
   "metadata": {},
   "source": [
    "3. Prove usando “Model-Checking” com interpelantes e invariantes prove também que esta propriedade é um invariante em qualquer traço de $\\,\\Sigma\\,$."
   ]
  },
  {
   "cell_type": "markdown",
   "id": "ec75588d",
   "metadata": {},
   "source": [
    "Vamos então defenir como estado de erro, a negação do invariante $safety$, seja então:"
   ]
  },
  {
   "cell_type": "code",
   "execution_count": null,
   "id": "5c07184d",
   "metadata": {},
   "outputs": [],
   "source": [
    "def error(s,x,y,NN):\n",
    "    return Or(Not(Equals(s['r'],Plus(s['s']*x,s['t']*y))),GE(s['r'],Int(NN)),LE(s['r'],Int(0)))"
   ]
  },
  {
   "cell_type": "markdown",
   "id": "2489a0dc",
   "metadata": {},
   "source": [
    "Definimos a função invert que recebe a função que codifica a relação de transição e devolve a relação de transição inversa."
   ]
  },
  {
   "cell_type": "code",
   "execution_count": null,
   "id": "e9cb9182",
   "metadata": {},
   "outputs": [],
   "source": [
    "def invert(trans1):\n",
    "    return lambda curr, prox: trans1(prox, curr)"
   ]
  },
  {
   "cell_type": "code",
   "execution_count": null,
   "id": "c243263f",
   "metadata": {},
   "outputs": [],
   "source": [
    "def baseName(s):\n",
    "    return ''.join(list(itertools.takewhile(lambda x: x!='!', s)))\n",
    "\n",
    "def rename(form,state):\n",
    "    vs = get_free_variables(form)\n",
    "    pairs = [ (x,state[baseName(x.symbol_name())]) for x in vs ]\n",
    "    return form.substitute(dict(pairs))\n",
    "\n",
    "def same(state1,state2):\n",
    "    return And([Equals(state1[x],state2[x]) for x in state1])"
   ]
  },
  {
   "cell_type": "markdown",
   "id": "9452a781",
   "metadata": {},
   "source": [
    "Usaremos então a algorítmo $model\\_checking$, dado nas aulas práticas."
   ]
  },
  {
   "cell_type": "code",
   "execution_count": null,
   "id": "4714e8d2",
   "metadata": {},
   "outputs": [],
   "source": [
    "def model_checking(vars,init1,trans1,error,N,M,x1,y1,NN):\n",
    "    with Solver(name=\"msat\") as solver:\n",
    "        \n",
    "        # Criar todos os estados que poderão vir a ser necessários.\n",
    "        X = [genState(vars,'X',i) for i in range(N+1)]\n",
    "        Y = [genState(vars,'Y',i) for i in range(M+1)]\n",
    "        transt = invert(trans1)\n",
    "        \n",
    "        # Estabelecer a ordem pela qual os pares (n,m) vão surgir. Por exemplo:\n",
    "        order = sorted([(a,b) for a in range(1,N+1) for b in range(1,M+1)],key=lambda tup:tup[0]+tup[1]) \n",
    "        \n",
    "        # Step 1 implícito na ordem de 'order' e nas definições de Rn, Um.\n",
    "        for (n,m) in order:      \n",
    "            # Step 2. \n",
    "            I = init1(X[0],x1,y1)\n",
    "            Tn = And([trans1(X[i], X[i+1]) for i in range(n)])\n",
    "            Rn = And(I, Tn)\n",
    "            \n",
    "            E = error(Y[0],x1,y1,NN)\n",
    "            Bm = And([transt(Y[i], Y[i+1]) for i in range(m)])\n",
    "            Um = And(E, Bm)\n",
    "            \n",
    "            Vnm = And(Rn, same(X[n], Y[m]), Um)\n",
    "            if solver.solve([Vnm]):\n",
    "                print(\"> O sistema é inseguro.\")\n",
    "                return\n",
    "            else:\n",
    "                # Step 3. \n",
    "                A = And(Rn, same(X[n], Y[m]))\n",
    "                B = Um\n",
    "                C = binary_interpolant(A, B)\n",
    "                \n",
    "                # Salvaguardar cálculo bem-sucedido do interpolante.\n",
    "                if C is None:\n",
    "                    print(\"> O interpolante é None.\")\n",
    "                    break\n",
    "                \n",
    "                # Step 4. \n",
    "                C0 = rename(C, X[0])\n",
    "                T = trans1(X[0], X[1])\n",
    "                C1 = rename(C, X[1])\n",
    "\n",
    "                if not solver.solve([C0, T, Not(C1)]):\n",
    "                    # C é invariante de T.\n",
    "                    print(\"> O sistema é seguro.\")\n",
    "                    return \n",
    "                else:\n",
    "                    # Step 5.1.\n",
    "                    S = rename(C, X[n])\n",
    "                    while True:\n",
    "                        # Step 5.2.\n",
    "                        T = trans1(X[n], Y[m])\n",
    "                        A = And(S, T)\n",
    "                        if solver.solve([A, Um]):\n",
    "                            #print(\"> Não foi encontrado majorante.\")\n",
    "                            break \n",
    "                        else:\n",
    "                            # Step 5.3.\n",
    "                            C = binary_interpolant(A, Um)\n",
    "                            Cn = rename(C, X[n])\n",
    "                            if not solver.solve([Cn, Not(S)]):\n",
    "                                # Step 5.4.\n",
    "                                # C(Xn) -> S é tautologia.\n",
    "                                print(\"> O sistema é seguro.\")\n",
    "                                return\n",
    "                            else:\n",
    "                                # Step 5.5.\n",
    "                                # C(Xn) -> S não é tautologia.\n",
    "                                S = Or(S, Cn)\n",
    "                                \n",
    "    print(\"> Não foi provada a segurança ou insegurança do sistema.\")"
   ]
  },
  {
   "cell_type": "markdown",
   "id": "7313fc94",
   "metadata": {},
   "source": [
    "## Resultados "
   ]
  },
  {
   "cell_type": "code",
   "execution_count": null,
   "id": "2cc0b173",
   "metadata": {},
   "outputs": [],
   "source": [
    "genTrace(['pc','r','r_','s','s_','t','t_','q','aux','auxr','auxs','auxt'],init1,trans1, 30,14,14)"
   ]
  },
  {
   "cell_type": "code",
   "execution_count": null,
   "id": "b54a5412",
   "metadata": {},
   "outputs": [],
   "source": [
    "k_induction_always(['pc','r','r_','s','s_','t','t_','q','aux','auxr','auxs','auxt'],init1,trans1,safety,40,16,4)"
   ]
  },
  {
   "cell_type": "code",
   "execution_count": null,
   "id": "4c6543ad",
   "metadata": {},
   "outputs": [],
   "source": [
    "model_checking(['pc','r','r_','s','s_','t','t_','q','aux','auxr','auxs','auxt'], init1, trans1, error, 45, 45,6,10,NN)  "
   ]
  }
 ],
 "metadata": {
  "kernelspec": {
   "display_name": "Python 3 (ipykernel)",
   "language": "python",
   "name": "python3"
  },
  "language_info": {
   "codemirror_mode": {
    "name": "ipython",
    "version": 3
   },
   "file_extension": ".py",
   "mimetype": "text/x-python",
   "name": "python",
   "nbconvert_exporter": "python",
   "pygments_lexer": "ipython3",
   "version": "3.10.13"
  }
 },
 "nbformat": 4,
 "nbformat_minor": 5
}
