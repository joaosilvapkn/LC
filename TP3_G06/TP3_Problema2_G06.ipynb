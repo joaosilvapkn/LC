{
 "cells": [
  {
   "cell_type": "markdown",
   "id": "03feb5ff",
   "metadata": {},
   "source": [
    "$\\large Logica \\  Computacional\\ 23-Novembro-2023 \\ LCC$\n",
    "\n",
    "$\\textbf{Grupo 06:}$\n",
    "\n",
    "* João Manuel Franqueira da Silva, A91638\n",
    "* Eduardo Manuel Sousa Pereira, A70619\n",
    "\n",
    "$\\huge TP3 - Problema\\ 2 $"
   ]
  },
  {
   "cell_type": "code",
   "execution_count": null,
   "id": "d5338dd1",
   "metadata": {},
   "outputs": [],
   "source": [
    "from pysmt.shortcuts import *\n",
    "import pysmt.typing as types\n",
    "import random as rn\n",
    "from pysmt.typing import BOOL, REAL, INT, BVType, STRING\n",
    "from IPython.display import Latex\n",
    "import itertools\n",
    "from pysmt.typing import *"
   ]
  },
  {
   "cell_type": "markdown",
   "id": "ddedc5bf",
   "metadata": {},
   "source": [
    "# Declaração de variáveis\n",
    "\n",
    "Comecemos então por fixar 3 constantes a, b, N, bem como as restantes variáveis utilizadas durante a execução do programa."
   ]
  },
  {
   "cell_type": "code",
   "execution_count": null,
   "id": "9fd6efb0",
   "metadata": {},
   "outputs": [],
   "source": [
    "a_=16\n",
    "b_=4\n",
    "n_=30\n",
    "\n",
    "r = Symbol('r',INT)\n",
    "s = Symbol('s',INT)\n",
    "t = Symbol('t',INT)\n",
    "r_ = Symbol('r_',INT)\n",
    "s_ = Symbol('s_',INT)\n",
    "t_ = Symbol('t_',INT)\n",
    "q = Symbol('q',INT)\n",
    "\n",
    "a=Int(a_)\n",
    "b=Int(b_)\n",
    "N=Int(n_)"
   ]
  },
  {
   "cell_type": "markdown",
   "id": "aa5a6abb",
   "metadata": {},
   "source": [
    "Definimos também a função $prove$, que verifica a validade de uma fórmula lógica."
   ]
  },
  {
   "cell_type": "code",
   "execution_count": null,
   "id": "b27f60f8",
   "metadata": {},
   "outputs": [],
   "source": [
    "def prove(f):\n",
    "    with Solver(name=\"z3\") as s:\n",
    "        s.add_assertion(Not(f))\n",
    "        if s.solve():\n",
    "            print(\"Failed to prove.\")\n",
    "            print(s.get_model())\n",
    "        else:\n",
    "            print(\"Proved.\")"
   ]
  },
  {
   "cell_type": "markdown",
   "id": "036782e1",
   "metadata": {},
   "source": [
    "1. Construa a asserção lógica que representa a pós-condição do algoritmo. Note que a definição da função  $\\gcd$  é   $\\gcd(a,b)\\;\\equiv\\; \\min \\{\\,r > 0\\,|\\,\\exists\\,s,t\\,\\centerdot\\, r = a*s+b*t\\,\\}$"
   ]
  },
  {
   "cell_type": "markdown",
   "id": "d12ef52e",
   "metadata": {},
   "source": [
    "Para garantir que para todos $auxr$ tal que $0<auxr<r$ nao existam $s$ e $t$ tal que $auxr= s*a + t*b$, usaremos a função $aux$, que dados $a, b, r, r\\_$ verifica se algum inteiro entre $r$ e $r\\_$ satisfaça tal propriedade."
   ]
  },
  {
   "cell_type": "code",
   "execution_count": null,
   "id": "41b62aa8",
   "metadata": {},
   "outputs": [],
   "source": [
    "def aux(a,b,r,r_):\n",
    "    with Solver(name=\"z3\") as solver:\n",
    "        auxr = Symbol('auxr', INT)\n",
    "        s = Symbol('s', INT)\n",
    "        t = Symbol('t', INT)\n",
    "        x=(GT(auxr,r_))\n",
    "        y=(LT(auxr,r))      \n",
    "        z=(Equals(auxr,a*s + b*t))\n",
    "        solver.add_assertion(Implies(And(x,y),z))\n",
    "        if solver.solve():\n",
    "            return FALSE()\n",
    "        else:\n",
    "            return TRUE()"
   ]
  },
  {
   "cell_type": "markdown",
   "id": "98f88caf",
   "metadata": {},
   "source": [
    "Para defenir a pós condição, temos então que verificar que dados $r=a * s + b * t$ se verifica, e que a função aux, devolve TRUE quando $r\\_==0$."
   ]
  },
  {
   "cell_type": "code",
   "execution_count": null,
   "id": "320aaf2b",
   "metadata": {},
   "outputs": [],
   "source": [
    "def pos_condition(a,b,r,s,t,r_):\n",
    "    return And(GT(r,Int(0)),Equals(r_,Int(0)),Equals(r,s*a + t*b),aux(a,b,r,r_))"
   ]
  },
  {
   "cell_type": "markdown",
   "id": "803cb46e",
   "metadata": {},
   "source": [
    "2. Usando a metodologia do comando havoc para o ciclo, escreva o programa na linguagem dos comandos anotados (LPA). Codifique a pós-condição do algoritmo com um comando assert."
   ]
  },
  {
   "cell_type": "markdown",
   "id": "0f35493d",
   "metadata": {},
   "source": [
    "Para codificar o programa, precisamos então de definir um invariante de ciclo.\n",
    "Durante a execução do programa podemos notar que:\n",
    "1. $0 < r < a \\vee b$\n",
    "2. $0 <= r\\_ < a \\vee b$\n",
    "3. $r=(a*s) + (t*b)$\n",
    "4. $r\\_=(a*s\\_) + (t\\_*b)$\n",
    "5. $r\\_ < r \\implies aux$  $(a,b,r,r\\_)$\n",
    "ou seja, não existe $r\\_ < auxr < r$ tal que para alguns $aux, auxt$:  $auxr= auxs*a + auxt*b$\n",
    "\n",
    "Definimos então o invariante de ciclo."
   ]
  },
  {
   "cell_type": "code",
   "execution_count": null,
   "id": "eb6c4ad5",
   "metadata": {},
   "outputs": [],
   "source": [
    "def invariante(a,b,r,s,t,r_,s_,t_):\n",
    "    return And(\n",
    "        GT(r,Int(0)),GE(r_,Int(0)),\n",
    "        Equals(r,s*a + t*b),Equals(r_,a*s_ + b*t_),\n",
    "        Implies(r>r_,aux(a,b,r,r_)),\n",
    "        Or(LE(r,a),LE(r,b)),Or(LE(r_,a),LE(r_,b))\n",
    "    )"
   ]
  },
  {
   "cell_type": "markdown",
   "id": "a8fa55b8",
   "metadata": {},
   "source": [
    "### Codificação em Linguagem de programas anotados com notação WPC"
   ]
  },
  {
   "cell_type": "markdown",
   "id": "5b113b84",
   "metadata": {},
   "source": [
    "```python\n",
    "[assume pre; r=a,r_=b,s=1,s_=0,t=0,t_=1; assert inv; havoc;\n",
    "     (assume r_!=0 and inv; q=r//r_, r,r_s,s,t,t_=r_,r-q*r_,s_,s-q*s_,t_,t-q*t_; assert inv; assume false||\n",
    "      assume r_==0 and inv);assert pos]\n",
    "==\n",
    "pre->[r=a,r_=b,s=1,s_=0,t=0,t_=1; assert inv; havoc;\n",
    "      (assume r_!=0 and inv; q=r//r_, r,r_s,s,t,t_=r_,r-q*r_,s_,s-q*s_,t_,t-q*t_; assert inv; assume false||\n",
    "      assume r_==0 and inv);assert pos]\n",
    "==\n",
    "pre->[assert inv; havoc;\n",
    "      (assume r_!=0 and inv; q=r//r_, r,r_s,s,t,t_=r_,r-q*r_,s_,s-q*s_,t_,t-q*t_; assert inv; assume false||\n",
    "      assume r_==0 and inv);assert pos](r=a,r_=b,s=1,s_=0,t=0,t_=1)\n",
    "==\n",
    "pre-> inv and [havoc;\n",
    "      (assume r_!=0 and inv; q=r//r_, r,r_s,s,t,t_=r_,r-q*r_,s_,s-q*s_,t_,t-q*t_; assert inv; assume false||\n",
    "      assume r_==0 and inv);assert pos](r=a,r_=b,s=1,s_=0,t=0,t_=1)\n",
    "==\n",
    "pre-> inv and ForAll(q,r,s,t,r_,s_,t_)\n",
    "      [(assume r_!=0 and inv; q=r//r_, r,r_s,s,t,t_=r_,r-q*r_,s_,s-q*s_,t_,t-q*t_; assert inv; assume false||\n",
    "      assume r_==0 and inv);assert pos](r=a,r_=b,s=1,s_=0,t=0,t_=1)\n",
    "==\n",
    "pre-> inv(r=a,r_=b,s=1,s_=0,t=0,t_=1) and ForAll(q,r,s,t,r_,s_,t_)\n",
    "      [(assume r_!=0 and inv q=r//r_, r,r_s,s,t,t_=r_,r-q*r_,s_,s-q*s_,t_,t-q*t_; assert inv; assume false||\n",
    "      assume r_==0 and inv);assert pos]\n",
    "==\n",
    "pre-> inv(r=a,r_=b,s=1,s_=0,t=0,t_=1) and ForAll(q,r,s,t,r_,s_,t_)\n",
    "      [(assume r_!=0 and inv; q=r//r_, r,r_s,s,t,t_=r_,r-q*r_,s_,s-q*s_,t_,t-q*t_; assert inv; assume false; assert pos||\n",
    "      assume r_==0 and inv; assert pos)]\n",
    "==\n",
    "pre-> inv(r=a,r_=b,s=1,s_=0,t=0,t_=1) and ForAll(q,r,s,t,r_,s_,t_)\n",
    "      (r_!=0 and inv -> [q=r//r_, r,r_s,s,t,t_=r_,r-q*r_,s_,s-q*s_,t_,t-q*t_; assert inv; assume false; assert pos])||\n",
    "      ([assume r_==0 and inv; assert pos])\n",
    "==\n",
    "pre-> inv(r=a,r_=b,s=1,s_=0,t=0,t_=1) and ForAll(q,r,s,t,r_,s_,t_)\n",
    "      (r_!=0 and inv -> [assert inv; assume false; assert pos] (q=r//r_, r,r_s,s,t,t_=r_,r-q*r_,s_,s-q*s_,t_,t-q*t_))||\n",
    "      ([assume r_==0 and inv; assert pos])\n",
    "==\n",
    "pre-> inv(r=a,r_=b,s=1,s_=0,t=0,t_=1) and ForAll(q,r,s,t,r_,s_,t_)\n",
    "      (r_!=0 and inv -> inv and [assume false; assert pos] (q=r//r_, r,r_s,s,t,t_=r_,r-q*r_,s_,s-q*s_,t_,t-q*t_))||\n",
    "      ([assume r_==0 and inv; assert pos])\n",
    "==\n",
    "pre-> inv(r=a,r_=b,s=1,s_=0,t=0,t_=1) and ForAll(q,r,s,t,r_,s_,t_)\n",
    "      (r_!=0 and inv -> inv and TRUE (q=r//r_, r,r_s,s,t,t_=r_,r-q*r_,s_,s-q*s_,t_,t-q*t_))||\n",
    "      ([assume r_==0 and inv; assert pos])\n",
    "==\n",
    "pre-> inv(r=a,r_=b,s=1,s_=0,t=0,t_=1) and ForAll(q,r,s,t,r_,s_,t_)\n",
    "      (r_!=0 and inv -> inv(q=r//r_, r,r_s,s,t,t_=r_,r-q*r_,s_,s-q*s_,t_,t-q*t_))||\n",
    "      (r_==0 and inv -> pos)\n",
    "==\n",
    "pre-> inv(r=a,r_=b,s=1,s_=0,t=0,t_=1) and ForAll(q,r,s,t,r_,s_,t_)(\n",
    "                  (r_!=0 and inv -> inv(q=r//r_, r,r_s,s,t,t_=r_,r-q*r_,s_,s-q*s_,t_,t-q*t_)) and (r_==0 and inv -> pos)\n",
    "                                                                   )\n",
    "```        "
   ]
  },
  {
   "cell_type": "code",
   "execution_count": null,
   "id": "45f93920",
   "metadata": {},
   "outputs": [],
   "source": [
    "pre=And(GT(a,Int(0)),GT(b,Int(0)),LT(b,N),LT(a,N))\n",
    "inv=invariante(a,b,r,s,t,r_,s_,t_)\n",
    "pos= pos_condition(a,b,r,s,t,r_)\n",
    "\n",
    "ini= substitute(inv,{r:a, r_:b, s:Int(1), s_:Int(0),t:Int(0),t_:Int(1)}) \n",
    "pres= Implies(And(Not(Equals(r_, Int(0))), inv),substitute(\n",
    "    substitute(inv,{r:r_,r_:r-(q*r_),s:s_,s_:s-(q*s_),t:t_,t_:t-(q*t_)}),{q:Div(r,r_)})\n",
    "        )\n",
    "util= Implies(And(Equals(r_,Int(0)),inv),pos)\n",
    "\n",
    "vc = Implies(pre, And(ini, ForAll([q,r,s,t,r_,s_,t_],And(pres,util))))"
   ]
  },
  {
   "cell_type": "code",
   "execution_count": null,
   "id": "d211b15f",
   "metadata": {},
   "outputs": [],
   "source": [
    "prove(pre)"
   ]
  },
  {
   "cell_type": "code",
   "execution_count": null,
   "id": "0c7b9349",
   "metadata": {},
   "outputs": [],
   "source": [
    "prove(ini)"
   ]
  },
  {
   "cell_type": "code",
   "execution_count": null,
   "id": "b3dfe171",
   "metadata": {},
   "outputs": [],
   "source": [
    "prove(pres)"
   ]
  },
  {
   "cell_type": "code",
   "execution_count": null,
   "id": "fefa0000",
   "metadata": {},
   "outputs": [],
   "source": [
    "prove(util)"
   ]
  },
  {
   "cell_type": "code",
   "execution_count": null,
   "id": "ded4002b",
   "metadata": {},
   "outputs": [],
   "source": [
    "prove(vc)"
   ]
  }
 ],
 "metadata": {
  "kernelspec": {
   "display_name": "Python 3 (ipykernel)",
   "language": "python",
   "name": "python3"
  },
  "language_info": {
   "codemirror_mode": {
    "name": "ipython",
    "version": 3
   },
   "file_extension": ".py",
   "mimetype": "text/x-python",
   "name": "python",
   "nbconvert_exporter": "python",
   "pygments_lexer": "ipython3",
   "version": "3.10.13"
  }
 },
 "nbformat": 4,
 "nbformat_minor": 5
}
