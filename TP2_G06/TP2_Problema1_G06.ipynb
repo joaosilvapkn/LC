{
 "cells": [
  {
   "cell_type": "markdown",
   "id": "003b8fa3",
   "metadata": {},
   "source": [
    "$\\large Logica \\  Computacional\\ 26-Outubro-2023 \\ LCC$\n",
    "\n",
    "$\\textbf{Grupo 06:}$\n",
    "\n",
    "* João Manuel Franqueira da Silva, A91638\n",
    "* Eduardo Manuel Sousa Pereira, A70619\n",
    "\n",
    "$\\huge TP2 - Problema\\ 1 $"
   ]
  },
  {
   "cell_type": "markdown",
   "id": "835fc6b1",
   "metadata": {},
   "source": [
    "   O algoritmo estendido de Euclides (EXA) aceita dois inteiros constantes  $\\,a,b>0\\,$  e devolve inteiros $r,s,t\\,$ tais que  $\\,a*s + b*t = r\\,$  e  $\\,r = \\gcd(a,b)\\,$. \n",
    "    Para além das variáveis $\\,r,s,t\\,$ o código requer 3 variáveis adicionais $\\,r',s',t'\\,$ que representam os valores de $\\,r,s,t\\,$ no “próximo estado”.   "
   ]
  },
  {
   "cell_type": "markdown",
   "id": "d32c11b2",
   "metadata": {},
   "source": [
    "        INPUT  a, b\n",
    "        assume  a > 0 and b > 0\n",
    "    0:  r, r', s, s', t, t' = a, b, 1, 0, 0, 1\n",
    "    1:  while r' != 0    \n",
    "           q = r div r'\n",
    "    2:     r, r', s, s', t, t' = r', r − q × r', s', s − q × s', t', t − q × t' \n",
    "    3:  OUTPUT r, s, t"
   ]
  },
  {
   "cell_type": "code",
   "execution_count": 1,
   "id": "a3acf537",
   "metadata": {},
   "outputs": [],
   "source": [
    "from pysmt.shortcuts import *\n",
    "import pysmt.typing as types\n",
    "import random as rn\n",
    "from pysmt.typing import BOOL, REAL, INT, BVType, STRING\n",
    "from IPython.display import Latex"
   ]
  },
  {
   "cell_type": "markdown",
   "id": "d8d5b735",
   "metadata": {},
   "source": [
    "${\\normalsize\\text{Construção de um FOTS usando BitVector de tamanho $n$ que descreva o comportamento do programa.}}$ "
   ]
  },
  {
   "cell_type": "markdown",
   "id": "ffae9f12",
   "metadata": {},
   "source": [
    "Vamos começar por declarar as variáveis relativas ao nosso problema.\n",
    "\n",
    "Podemos ainda considerar uma variável $pc$ que indicará a instrução em que nos encontramos."
   ]
  },
  {
   "cell_type": "code",
   "execution_count": 2,
   "id": "56f925b6",
   "metadata": {},
   "outputs": [],
   "source": [
    "n = 32     #número de bits das variáveis\n",
    "\n",
    "def declare(i):\n",
    "    state = {}    \n",
    "    state['pc'] = Symbol('pc'+str(i),BVType(n))\n",
    "    state['r'] = Symbol('r'+str(i),BVType(n))\n",
    "    state['s'] = Symbol('s'+str(i),BVType(n))\n",
    "    state['t'] = Symbol('t'+str(i),BVType(n))\n",
    "    state['q'] = Symbol('q'+str(i),BVType(n))\n",
    "    state['r_'] = Symbol('r_'+str(i),BVType(n))\n",
    "    state['s_'] = Symbol('s_'+str(i),BVType(n))\n",
    "    state['t_'] = Symbol('t_'+str(i),BVType(n))\n",
    "    return state"
   ]
  },
  {
   "cell_type": "markdown",
   "id": "6f81d379",
   "metadata": {},
   "source": [
    "Para definir o predicado $init$, que dado um estado e dois inteiros $a$ e $b$ verifica se este é um estado inicial válido, precisamos de observar a pré-condição do nosso programa:\n",
    "\n",
    "$ a > 0 \\quad \\text{\\(\\land\\)} \\quad b > 0 \\quad \\text{\\(\\land\\)} \\quad r=a \\quad \\text{\\(\\land\\)} \\quad r\\_=b \\quad \\text{\\(\\land\\)} \\quad s=1 \\quad \\text{\\(\\land\\)} \\quad s\\_=0 \\quad \\text{\\(\\land\\)} \\quad t=0 \\quad \\text{\\(\\land\\)} \\quad t\\_=1 \\quad \\text{\\(\\land\\)} \\quad pc=0$"
   ]
  },
  {
   "cell_type": "code",
   "execution_count": 3,
   "id": "2b96e45e",
   "metadata": {},
   "outputs": [],
   "source": [
    "def init(state,a,b):\n",
    "    A=BVUGT(state['r'],SBV(0,n))\n",
    "    B=BVUGT(state['r_'],SBV(0,n))\n",
    "    C=Equals(state['pc'],SBV(0,n))\n",
    "    D=Equals(state['r'],SBV(a,n))\n",
    "    E=Equals(state['s'],SBV(1,n))\n",
    "    F=Equals(state['t'],SBV(0,n)) \n",
    "    G=Equals(state['r_'],SBV(b,n))\n",
    "    H=Equals(state['s_'],SBV(0,n))\n",
    "    I=Equals(state['t_'],SBV(1,n))\n",
    "    J=Equals(state['q'],SBV(0,n))\n",
    "    r=And(A,B,C,D,E,F,G,H,I,J)\n",
    "    \n",
    "    return r"
   ]
  },
  {
   "cell_type": "markdown",
   "id": "43f305f3",
   "metadata": {},
   "source": [
    "Definimos agora a função transição que recebe dois estados como argumento, o atual $(curr)$ e o que pretendemos transitar para $(prox)$, e verifica se esses dois estados se referem a uma transição válida do programa.\n",
    "\n",
    "Referindo às váriaveis do estado $curr$ por: $pc$, $r$, $r\\_$, $s$, $s\\_$, $t$, $t\\_$, $q$\n",
    "\n",
    "E do estado $prox$ por: $pc'$, $r'$, $r\\_'$, $s'$, $s\\_'$, $t'$, $t\\_'$, $q'$\n",
    "\n",
    "Temos então as seguintes transições possiveis:\n",
    "\n",
    "\n",
    "Quando a variável $pc$ tiver valor 0, no próximo estado do programa iremos estar na condição do ciclo while, ou seja, $pc '$ vai ter o valor 1 e todas as variáveis mantêm o mesmo valor.\n",
    "\n",
    "- $pc=0\\quad \\text{\\(\\land\\)} \\quad pc'=1 \\quad \\text{\\(\\land\\)} \\quad r'=r \\quad \\text{\\(\\land\\)} \\quad r\\_'=r\\_ \\quad \\text{\\(\\land\\)} \\quad s'=s \\quad \\text{\\(\\land\\)} \\quad s\\_'=s\\_ \\quad \\text{\\(\\land\\)} \\quad t'=t \\quad \\text{\\(\\land\\)} \\quad t\\_'=t\\_$\n",
    "\n",
    "Quando a variável $pc$ tiver o valor 1 podemos prosseguir para dois estados: \n",
    "Se $r$$\\text{\\(\\neq\\)}$0 entramos dentro do ciclo e $pc'$ terá o valor 2, e os valores das variáveis são mantidas.\n",
    "    \n",
    "- $pc=1\\quad \\text{\\(\\land\\)} \\quad pc'=2 \\quad \\text{\\(\\land\\)} \\quad r\\_\\text{\\(\\neq\\)}0 \\quad \\text{\\(\\land\\)} \\quad r'=r \\quad \\text{\\(\\land\\)} \\quad r\\_'=r\\_ \\quad \\text{\\(\\land\\)} \\quad s'=s \\quad \\text{\\(\\land\\)} \\quad s\\_'=s\\_ \\quad \\text{\\(\\land\\)} \\quad t'=t \\quad \\text{\\(\\land\\)} \\quad t\\_'=t\\_$\n",
    "   \n",
    "Caso contrário, a condição do ciclo não é satisfeita, e $pc'$ terá o valor 3 e os valores das variáveis são mantidos.\n",
    "\n",
    "- $pc=1\\quad \\text{\\(\\land\\)} \\quad pc'=3 \\quad \\text{\\(\\land\\)} \\quad r\\_=0 \\quad \\text{\\(\\land\\)} \\quad r'=r \\quad \\text{\\(\\land\\)} \\quad r\\_'=r\\_ \\quad \\text{\\(\\land\\)} \\quad s'=s \\quad \\text{\\(\\land\\)} \\quad s\\_'=s\\_ \\quad \\text{\\(\\land\\)} \\quad t'=t \\quad \\text{\\(\\land\\)} \\quad t\\_'=t\\_$\n",
    "\n",
    "Quando $pc$ tiver o valor 2, $pc'$ volta à linha 1 e temos que efetuar as operações.\n",
    "\n",
    "- $pc=2\\quad \\text{\\(\\land\\)} \\quad pc'=1 \\quad \\text{\\(\\land\\)} \\quad r\\_!=0 \\quad \\text{\\(\\land\\)} \\quad q=r/r\\_ \\quad \\text{\\(\\land\\)} \\quad r\\_'=r-(q * r\\_) \\quad \\text{\\(\\land\\)} \\quad s\\_'=s-(q * s\\_) \\quad \\text{\\(\\land\\)} \\quad t\\_'=t-(q * t\\_) $\n",
    "\n",
    "\n",
    "Por último podemos definir ainda uma transição do estado final para ele próprio, em que o $pc$, tal como as variavéis se mantêm.\n",
    "\n",
    "- $pc=3\\quad \\text{\\(\\land\\)} \\quad pc'=3 \\quad \\text{\\(\\land\\)} \\quad r'=r \\quad \\text{\\(\\land\\)} \\quad r\\_'=r\\_ \\quad \\text{\\(\\land\\)} \\quad s'=s \\quad \\text{\\(\\land\\)} \\quad s\\_'=s\\_ \\quad \\text{\\(\\land\\)} \\quad t'=t \\quad \\text{\\(\\land\\)} \\quad t\\_'=t\\_$"
   ]
  },
  {
   "cell_type": "code",
   "execution_count": 4,
   "id": "4cdfaf6a",
   "metadata": {},
   "outputs": [],
   "source": [
    "def trans(curr,prox):\n",
    "    #0 - 1\n",
    "    A=Equals(curr['pc'],SBV(0,n))\n",
    "    B=Equals(prox['pc'],SBV(1,n))\n",
    "    C=Equals(prox['r'],curr['r'])\n",
    "    D=Equals(prox['s'],curr['s'])\n",
    "    E=Equals(prox['t'],curr['t'])\n",
    "    F=Equals(prox['r_'],curr['r_'])\n",
    "    G=Equals(prox['s_'],curr['s_'])\n",
    "    H=Equals(prox['t_'],curr['t_'])\n",
    "    I=Equals(prox['q'],curr['q'])\n",
    "    t01=And(A,B,C,D,E,F,G,H,I)\n",
    "    \n",
    "    #-----------------------\n",
    "    #1 - 2\n",
    "    A=Equals(curr['pc'],SBV(1,n))\n",
    "    B=Equals(prox['pc'],SBV(2,n))\n",
    "    C=Equals(prox['r'],curr['r'])\n",
    "    D=Equals(prox['s'],curr['s'])\n",
    "    E=Equals(prox['t'],curr['t'])\n",
    "    F=Equals(prox['r_'],curr['r_'])\n",
    "    G=Equals(prox['s_'],curr['s_'])\n",
    "    H=Equals(prox['t_'],curr['t_'])\n",
    "    z=Not(Equals(curr['r_'],SBV(0,n)))\n",
    "    t12=And(A,B,C,D,E,F,G,H,z)\n",
    "    \n",
    "    #-----------------------\n",
    "    #2 - 1  \n",
    "    A=Equals(curr['pc'],SBV(2,n))\n",
    "    B=Equals(prox['pc'],SBV(1,n))\n",
    "    D=Equals(prox['q'],BVSDiv(curr['r'],curr['r_']))\n",
    "    E=Equals(prox['r_'],BVSub(curr['r'],BVMul(prox['q'],curr['r_'])))\n",
    "    F=Equals(prox['s_'],BVSub(curr['s'],BVMul(prox['q'],curr['s_'])))\n",
    "    G=Equals(prox['t_'],BVSub(curr['t'],BVMul(prox['q'],curr['t_'])))\n",
    "    H=Equals(prox['r'],curr['r_'])\n",
    "    I=Equals(prox['s'],curr['s_'])\n",
    "    J=Equals(prox['t'],curr['t_'])\n",
    "    t21=And(A,B,D,E,F,G,H,I,J)\n",
    "    \n",
    "    #-----------------------\n",
    "    #1 - 3\n",
    "    A=Equals(curr['pc'],SBV(1,n))\n",
    "    B=Equals(prox['pc'],SBV(3,n))\n",
    "    C=Equals(curr['r_'],SBV(0,n))\n",
    "    D=Equals(prox['r'],curr['r'])\n",
    "    E=Equals(prox['s'],curr['s'])\n",
    "    F=Equals(prox['t'],curr['t'])\n",
    "    G=Equals(prox['r_'],curr['r_'])\n",
    "    H=Equals(prox['s_'],curr['s_'])\n",
    "    I=Equals(prox['t_'],curr['t_'])\n",
    "    J=Equals(prox['q'],curr['q'])\n",
    "    t13=And(A,B,C,D,E,F,G,H,I,J)\n",
    "    \n",
    "    #-----------------------\n",
    "    #3 - 3\n",
    "    A=Equals(curr['pc'],SBV(3,n))\n",
    "    B=Equals(prox['pc'],SBV(3,n))\n",
    "    C=Equals(prox['r'],curr['r'])\n",
    "    D=Equals(prox['s'],curr['s'])\n",
    "    E=Equals(prox['t'],curr['t'])\n",
    "    F=Equals(prox['r_'],curr['r_'])\n",
    "    G=Equals(prox['s_'],curr['s_'])\n",
    "    H=Equals(prox['t_'],curr['t_'])\n",
    "    I=Equals(prox['q'],curr['q'])\n",
    "    t33=And(A,B,C,D,E,F,G,H,I)\n",
    "    \n",
    "    return Or(t01,t12,t21,t13,t33)"
   ]
  },
  {
   "cell_type": "markdown",
   "id": "f052ffe9",
   "metadata": {},
   "source": [
    "Por último, temos a função $gera\\_traco$, que cria uma lista \"traço\" de $k$ estados em que:\n",
    "\n",
    "- Aplicamos a função init ao primeiro estado: $init (traco[0])$\n",
    "\n",
    "- Para todos estado consecutivos $S$, $S'$, aplicamos a função transição: $\\forall_{i=0}^{k-2}$ $trans (traco[i], traco[i+1])$"
   ]
  },
  {
   "cell_type": "code",
   "execution_count": 5,
   "id": "c9e9d285",
   "metadata": {},
   "outputs": [],
   "source": [
    "def gera_traco(declare,init,trans,k,a,b):\n",
    "    if(a>0 and b>0):\n",
    "        with Solver() as solver:\n",
    "\n",
    "            traco = [declare(i) for i in range(k)]\n",
    "\n",
    "            solver.add_assertion(init(traco[0],a,b))\n",
    "\n",
    "            for i in range(k-1):\n",
    "                solver.add_assertion(trans(traco[i], traco[i+1]))\n",
    "\n",
    "            if solver.solve():\n",
    "                print(\"> is sat\")\n",
    "                for i, s in enumerate(traco):\n",
    "                    print(\"Estado pc: %s\"%(solver.get_value(s['pc']).bv_signed_value()))\n",
    "                    print(\"Valor R: %s\"%(solver.get_value(s['r']).bv_signed_value()))\n",
    "                    print(\"Valor R_: %s\"%(solver.get_value(s['r_']).bv_signed_value()))\n",
    "                    print(\"Valor S: %s\"%(solver.get_value(s['s']).bv_signed_value()))\n",
    "                    print(\"Valor S_: %s\"%(solver.get_value(s['s_']).bv_signed_value()))\n",
    "                    print(\"Valor T: %s\"%(solver.get_value(s['t']).bv_signed_value()))\n",
    "                    print(\"Valor T_: %s\"%(solver.get_value(s['t_']).bv_signed_value()))\n",
    "                    print(\"Valor Q: %s\"%(solver.get_value(s['q']).bv_signed_value()))   \n",
    "                    print(\"\")\n",
    "            else:\n",
    "                print(\"> Not feasible.\")"
   ]
  },
  {
   "cell_type": "markdown",
   "id": "75d18317",
   "metadata": {},
   "source": [
    "${\\normalsize\\text{Provar que o programa nunca atinge o estado de erro.}}$ \n",
    "\n",
    "2. Considere estado de erro quando $\\,r=0\\,$ ou alguma das variáveis atinge o “overflow”. Prove que o programa nunca atinge o estado de erro.\n",
    "\n",
    "Como queremos provar que em nenhum estado a variável $r$ atinge o valor 0, podemos introduzir um predicado que dado um estado $S$, testa se $S(r)==0$."
   ]
  },
  {
   "cell_type": "code",
   "execution_count": 6,
   "id": "9916ef9d",
   "metadata": {},
   "outputs": [],
   "source": [
    "def r_dif_zero(state):\n",
    "    return Not(Equals(state['r'],SBV(0,n)))"
   ]
  },
  {
   "cell_type": "markdown",
   "id": "f92cb753",
   "metadata": {},
   "source": [
    "Também devemos considerar como erro um estado em que alguma variável atinge o overflow, ou seja, em que alguma variável seja maior do que o maior número representável com 32 bits.\n",
    "\n",
    "Introduzimos então um predicado que dado um estado $S$, nos diz se alguma variável atingiu overflow."
   ]
  },
  {
   "cell_type": "code",
   "execution_count": 7,
   "id": "f37c56de",
   "metadata": {},
   "outputs": [],
   "source": [
    "def no_overflow(state):     \n",
    "    N= BV(2**n-1,width=n)\n",
    "    A=Or(\n",
    "        BVUGT(state['r'], N),\n",
    "        BVUGT(state['s'], N),\n",
    "        BVUGT(state['t'], N),\n",
    "        BVUGT(state['r_'], N),\n",
    "        BVUGT(state['s_'], N),\n",
    "        BVUGT(state['t_'], N),\n",
    "        BVUGT(state['q'], N)\n",
    "    )\n",
    "    return Not(A) "
   ]
  },
  {
   "cell_type": "markdown",
   "id": "49d51e6e",
   "metadata": {},
   "source": [
    "Combinando $r\\_dif\\_zero$ e $no\\_overflow$, temos que um estado $S$, nao é estado de erro, quando ambos os predicados validam $S$.\n",
    "\n",
    "Daí, o predicado $nao\\_erro$."
   ]
  },
  {
   "cell_type": "code",
   "execution_count": 8,
   "id": "6394ac2c",
   "metadata": {},
   "outputs": [],
   "source": [
    "def nao_erro(state):\n",
    "    return And(r_dif_zero(state),no_overflow(state))"
   ]
  },
  {
   "cell_type": "markdown",
   "id": "b03fb6ba",
   "metadata": {},
   "source": [
    "Queremos verificar que o programa nunca atinge um estado de erro, para verificar esta propriedade, podemos utilizar o método da k_indução que consiste em:\n",
    "\n",
    "- $\\phi$ é válido nos estados iniciais, ou seja, $\\mathit{init}(s) \\rightarrow \\phi(s)$\n",
    "\n",
    "- Para qualquer estado, assumindo que $\\phi$ é verdade, se executarmos uma transição, $\\phi$ continua a ser verdade no próximo estado, ou seja, $\\phi(s) \\wedge \\mathit{trans}(s,s') \\rightarrow \\phi(s')$.\n",
    "\n",
    "Um processo parecido com este seria generalizar a indução assumindo no passo indutivo que o invariante é válido nos $k$ estados anteriores. "
   ]
  },
  {
   "cell_type": "code",
   "execution_count": 9,
   "id": "de5920cf",
   "metadata": {},
   "outputs": [],
   "source": [
    "def k_induction_always(declare,init,trans,inv,k,a,b):\n",
    "    if(a>0 and b>0):\n",
    "        with Solver() as solver:\n",
    "            s = [declare(i) for i in range(k)]\n",
    "            solver.add_assertion(init(s[0],a,b))\n",
    "            for i in range(k-1):\n",
    "                solver.add_assertion(trans(s[i],s[i+1]))\n",
    "\n",
    "            for i in range(k):\n",
    "                solver.push()\n",
    "                solver.add_assertion(Not(inv(s[i])))\n",
    "                if solver.solve():\n",
    "                    print(f\"> Contradição! O invariante não se verifica nos k estados iniciais.\")\n",
    "                    for st in s:\n",
    "                        print(f\" pc = {solver.get_value(st['pc']).bv_signed_value()}\",end=\" \")\n",
    "                        print(f\" r = {solver.get_value(st['r']).bv_signed_value()}\",end=\" \")\n",
    "                        print(f\" s = {solver.get_value(st['s']).bv_signed_value()}\",end=\" \")\n",
    "                        print(f\" t = {solver.get_value(st['t']).bv_signed_value()}\")\n",
    "                        print(f\" r_ = {solver.get_value(st['r_']).bv_signed_value()}\",end=\" \")\n",
    "                        print(f\" s_ = {solver.get_value(st['s_']).bv_signed_value()}\",end=\" \")\n",
    "                        print(f\" t_ = {solver.get_value(st['t_']).bv_signed_value()}\",end=\" \")\n",
    "                        print(f\" q = {solver.get_value(st['q']).bv_signed_value()}\",end=\" \")\n",
    "                        print(\"---------------------------------------------------------\")\n",
    "                        print()\n",
    "\n",
    "                    return\n",
    "                solver.pop()\n",
    "\n",
    "            s2 = [declare(i+k) for i in range(k+1)]\n",
    "\n",
    "            for i in range(k):\n",
    "                solver.add_assertion(inv(s2[i]))\n",
    "                solver.add_assertion(trans(s2[i],s2[i+1]))\n",
    "\n",
    "            solver.add_assertion(Not(inv(s2[-1])))\n",
    "\n",
    "            if solver.solve():\n",
    "                print(f\"> Contradição! O passo indutivo não se verifica.\")\n",
    "                return\n",
    "            print(f\"> A propriedade verifica-se por k-indução (k={k}).\")"
   ]
  },
  {
   "cell_type": "markdown",
   "id": "5fa55ac8",
   "metadata": {},
   "source": [
    "${\\normalsize\\text{Prove que a relação de Bézout, $ a*s + b*t = r $ é um invariante do algoritmo.}}$ \n",
    "\n",
    "Esta relação é traduzida com o seguinte predicado:"
   ]
  },
  {
   "cell_type": "code",
   "execution_count": 10,
   "id": "6c0b3440",
   "metadata": {},
   "outputs": [],
   "source": [
    "def bezout(state,a,b): \n",
    "    return Equals(state['r'],BVAdd(BVMul(state['s'],SBV(a,n)),BVMul(state['t'],SBV(b,n))))"
   ]
  },
  {
   "cell_type": "markdown",
   "id": "85c8df7f",
   "metadata": {},
   "source": [
    "Para provar este invariante, vamos usar o método $bmc\\_always$ em que a cada iteração, verifica, para dois estados consecutivos $S$ e $S'$ tal que $invariante(S)$ e $trans(S,S')$, se $\\text{\\(\\neg\\)}$ $invariante(S')$ é válido."
   ]
  },
  {
   "cell_type": "code",
   "execution_count": 11,
   "id": "45c09bef",
   "metadata": {},
   "outputs": [],
   "source": [
    "def bmc_always(declare,init,trans,inv,K,a,b):\n",
    "    if(a>0 and b>0):\n",
    "        with Solver() as solver:\n",
    "            states = [declare(i) for i in range(K)]\n",
    "            solver.add_assertion(init(states[0],a,b))\n",
    "\n",
    "            for k in range(K):\n",
    "                if k>0:\n",
    "                    solver.add_assertion(trans(states[k-1], states[k]))\n",
    "\n",
    "                solver.push()\n",
    "                solver.add_assertion(Not(inv(states[k],a,b)))\n",
    "\n",
    "                if solver.solve():\n",
    "                    print(f\"> Invariante não se verifica para os primeiros {k+1} estados.\")\n",
    "                    return\n",
    "                else:\n",
    "                    if k==K-1:\n",
    "                        print(f\"> Invariante verifica-se para os primeiros {K} estados.\")\n",
    "                    else:\n",
    "                        solver.pop()"
   ]
  },
  {
   "cell_type": "code",
   "execution_count": 12,
   "id": "a76d6ae0",
   "metadata": {},
   "outputs": [
    {
     "name": "stdout",
     "output_type": "stream",
     "text": [
      "> is sat\n",
      "Estado pc: 0\n",
      "Valor R: 3\n",
      "Valor R_: 6\n",
      "Valor S: 1\n",
      "Valor S_: 0\n",
      "Valor T: 0\n",
      "Valor T_: 1\n",
      "Valor Q: 0\n",
      "\n",
      "Estado pc: 1\n",
      "Valor R: 3\n",
      "Valor R_: 6\n",
      "Valor S: 1\n",
      "Valor S_: 0\n",
      "Valor T: 0\n",
      "Valor T_: 1\n",
      "Valor Q: 0\n",
      "\n",
      "Estado pc: 2\n",
      "Valor R: 3\n",
      "Valor R_: 6\n",
      "Valor S: 1\n",
      "Valor S_: 0\n",
      "Valor T: 0\n",
      "Valor T_: 1\n",
      "Valor Q: 0\n",
      "\n",
      "Estado pc: 1\n",
      "Valor R: 6\n",
      "Valor R_: 3\n",
      "Valor S: 0\n",
      "Valor S_: 1\n",
      "Valor T: 1\n",
      "Valor T_: 0\n",
      "Valor Q: 0\n",
      "\n",
      "Estado pc: 2\n",
      "Valor R: 6\n",
      "Valor R_: 3\n",
      "Valor S: 0\n",
      "Valor S_: 1\n",
      "Valor T: 1\n",
      "Valor T_: 0\n",
      "Valor Q: 0\n",
      "\n",
      "Estado pc: 1\n",
      "Valor R: 3\n",
      "Valor R_: 0\n",
      "Valor S: 1\n",
      "Valor S_: -2\n",
      "Valor T: 0\n",
      "Valor T_: 1\n",
      "Valor Q: 2\n",
      "\n",
      "Estado pc: 3\n",
      "Valor R: 3\n",
      "Valor R_: 0\n",
      "Valor S: 1\n",
      "Valor S_: -2\n",
      "Valor T: 0\n",
      "Valor T_: 1\n",
      "Valor Q: 2\n",
      "\n"
     ]
    }
   ],
   "source": [
    "gera_traco(declare,init,trans,7,3,6)"
   ]
  },
  {
   "cell_type": "code",
   "execution_count": 13,
   "id": "768ee50e",
   "metadata": {},
   "outputs": [
    {
     "name": "stdout",
     "output_type": "stream",
     "text": [
      "> A propriedade verifica-se por k-indução (k=7).\n"
     ]
    }
   ],
   "source": [
    "k_induction_always(declare,init,trans,nao_erro,7,1,5)"
   ]
  },
  {
   "cell_type": "code",
   "execution_count": 14,
   "id": "51f6c3e9",
   "metadata": {},
   "outputs": [
    {
     "name": "stdout",
     "output_type": "stream",
     "text": [
      "> Invariante verifica-se para os primeiros 20 estados.\n"
     ]
    }
   ],
   "source": [
    "bmc_always(declare,init,trans,bezout,20,43,5)"
   ]
  },
  {
   "cell_type": "markdown",
   "id": "2b7ee35c",
   "metadata": {},
   "source": [
    "${\\LARGE\\text{Impressão dos resultados obtidos}}$"
   ]
  },
  {
   "cell_type": "markdown",
   "id": "529ffbb2",
   "metadata": {},
   "source": [
    "$gera\\_traco(declare,init,trans,7,3,6)$"
   ]
  },
  {
   "attachments": {
    "Captura_de_Tela_10.png": {
     "image/png": "[encoded data removed]"
    }
   },
   "cell_type": "markdown",
   "id": "729c65d9",
   "metadata": {},
   "source": [
    "![Captura_de_Tela_10.png](attachment:Captura_de_Tela_10.png)"
   ]
  },
  {
   "attachments": {
    "Captura_de_Tela_11.png": {
     "image/png": "[encoded data removed]"
    }
   },
   "cell_type": "markdown",
   "id": "824412ef",
   "metadata": {},
   "source": [
    "![Captura_de_Tela_11.png](attachment:Captura_de_Tela_11.png)"
   ]
  },
  {
   "cell_type": "markdown",
   "id": "9e847897",
   "metadata": {},
   "source": [
    "$k\\_induction\\_always(declare,init,trans,nao\\_erro,7,1,5)$"
   ]
  },
  {
   "attachments": {
    "Captura_de_Tela_12.png": {
     "image/png": "[encoded data removed]"
    }
   },
   "cell_type": "markdown",
   "id": "9c35cdd5",
   "metadata": {},
   "source": [
    "![Captura_de_Tela_12.png](attachment:Captura_de_Tela_12.png)"
   ]
  },
  {
   "cell_type": "markdown",
   "id": "a41b4912",
   "metadata": {},
   "source": [
    "$bmc\\_always(declare,init,trans,bezout,20,43,5)$"
   ]
  },
  {
   "attachments": {
    "Captura_de_Tela_13.png": {
     "image/png": "[encoded data removed]"
    }
   },
   "cell_type": "markdown",
   "id": "3b4c0124",
   "metadata": {},
   "source": [
    "![Captura_de_Tela_13.png](attachment:Captura_de_Tela_13.png)"
   ]
  }
 ],
 "metadata": {
  "kernelspec": {
   "display_name": "Python 3 (ipykernel)",
   "language": "python",
   "name": "python3"
  },
  "language_info": {
   "codemirror_mode": {
    "name": "ipython",
    "version": 3
   },
   "file_extension": ".py",
   "mimetype": "text/x-python",
   "name": "python",
   "nbconvert_exporter": "python",
   "pygments_lexer": "ipython3",
   "version": "3.10.13"
  }
 },
 "nbformat": 4,
 "nbformat_minor": 5
}
