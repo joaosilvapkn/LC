{
 "cells": [
  {
   "cell_type": "markdown",
   "id": "4f9197ad",
   "metadata": {},
   "source": [
    "$\\large Logica \\  Computacional\\ 26-Outubro-2023 \\ LCC$\n",
    "\n",
    "$\\textbf{Grupo 06:}$\n",
    "\n",
    "* João Manuel Franqueira da Silva, A91638\n",
    "* Eduardo Manuel Sousa Pereira, A70619\n",
    "\n",
    "$\\huge TP2 - Problema\\ 2 $"
   ]
  },
  {
   "cell_type": "markdown",
   "id": "47f3bd7d",
   "metadata": {},
   "source": [
    "O Conway’s Game of Life é um exemplo conhecido de um autómato celular . Aqui vamos modificar as regras do autómato de forma a usar um espaço de estados finito."
   ]
  },
  {
   "cell_type": "code",
   "execution_count": 1,
   "id": "de416d05",
   "metadata": {},
   "outputs": [],
   "source": [
    "from pysmt.shortcuts import *\n",
    "import pysmt.typing as types\n",
    "import random\n",
    "from pysmt.shortcuts import Symbol, INT, Solver, Or, And\n",
    "from pysmt.typing import BOOL, REAL, INT, BVType, STRING"
   ]
  },
  {
   "cell_type": "markdown",
   "id": "3be3aa11",
   "metadata": {},
   "source": [
    "1. O espaço de estados é definido por uma grelha de células booleanas (morta=0/viva=1) de dimensão $\\,N\\times N\\,$ (com $N>3$) identificadas por índices $\\,(i,j)\\in \\{1..N\\}$.  Estas $\\;N^2\\;$ células são aqui referidas como “normais”. \n",
    "\n",
    "2. Inicialmente todas as células normais estão mortas excepto  as células $\\,i,j \\leq 3\\,$que estão vivas. Um estado onde todas as células normais estão mortas é um “estado de erro”.\n",
    "\n",
    "3. Adicionalmente existem $\\,2\\,N+1\\,$ “células da borda” que correspondem a um dos índices, $i$ ou $j$, ser zero. As células da borda têm valores constantes que, no estado inicial, são gerados aleatoriamente com uma probabilidade $\\,1/2\\,$ de estarem vivas.\n",
    "\n",
    "4. As células normais o autómato modificam o estado de acordo com a regra “B3/S23”: i.e. a célula nasce (passa de $0$ a $1$) se tem exatamente 3 vizinhos vivos e sobrevive (mantém-se viva) se o número de vizinhos vivos é 2 ou 3, caso contrário morre ou continua morta."
   ]
  },
  {
   "cell_type": "markdown",
   "id": "11479af2",
   "metadata": {},
   "source": [
    "${\\normalsize\\text{Construir uma máquina de estados finita que represente o autómato.}}$ "
   ]
  },
  {
   "cell_type": "markdown",
   "id": "0642c3d0",
   "metadata": {},
   "source": [
    "Vamos começar por declarar as variaveis relativas ao nosso problema:\n",
    "\n",
    "Seja $N=5$, temos então:\n",
    "- $5*N=25$ células normais\n",
    "- $2*N+1=11$ células de borda\n",
    "\n",
    "Para auxiliar as operações de matrizes, consideremos a variavél $mat$ como a matriz que representa o estado do nosso programa, juntamente com as células de borda, temos entao uma matriz $n$ x $n$ em que $n=N+1=6$ \n",
    "\n",
    "Temos também a variavél $viz$ que $\\forall_{i=1}^{N} \\forall_{j=1}^{N}$ $viz[i][j]$ $==$ $sumvizinhos(mat[i][j])$"
   ]
  },
  {
   "cell_type": "code",
   "execution_count": 2,
   "id": "bfc3ea8e",
   "metadata": {},
   "outputs": [],
   "source": [
    "N=4\n",
    "n=N+1\n",
    "\n",
    "def declare(a): \n",
    "    state={}\n",
    "    state['mat']={}\n",
    "    for i in range(n):\n",
    "        state['mat'][i] = {}\n",
    "        for j in range(n):\n",
    "            state['mat'][i][j] = Symbol(f'mat-ij_{i}_{j}'+str(a), INT)\n",
    "            \n",
    "    state['viz']={}\n",
    "    for i in range(n):\n",
    "        state['viz'][i] = {}\n",
    "        for j in range(n):\n",
    "            state['viz'][i][j] = Symbol(f'viz-ij_{i}_{j}'+str(a), INT)\n",
    "    \n",
    "    return state"
   ]
  },
  {
   "cell_type": "markdown",
   "id": "242356b7",
   "metadata": {},
   "source": [
    "Para definir o predicado init, que dado um estado e uma posição, indica se este corresponde a um estado inicial ou não, precisamos de observar a pré-condição do nosso programa:\n",
    "\n",
    "$ i  \\text{\\(\\geq\\)}  1 \\quad \\text{\\(\\land\\)} \\quad i  \\text{\\(\\leq\\)} 3 \\quad \\text{\\(\\land\\)} \\quad j  \\text{\\(\\geq\\)}  1 \\quad \\text{\\(\\land\\)} \\quad j  \\text{\\(\\leq\\)} 3 \\quad \\text{\\(\\implies\\)} \\quad mat[i][j]==1$ \n",
    "\n",
    "$ i \\text{\\(\\geq\\)}  4 \\quad \\text{\\(\\land\\)} \\quad i  \\text{\\(\\leq\\)}  N \\quad \\text{\\(\\land\\)} \\quad j  \\text{\\(\\geq\\)} 1 \\quad \\text{\\(\\land\\)} \\quad j  \\text{\\(\\leq\\)}  N \\quad \\text{\\(\\implies\\)} \\quad mat[i][j]==0$ \n",
    "\n",
    "$ i  \\text{\\(\\geq\\)}  1 \\quad \\text{\\(\\land\\)} \\quad i  \\text{\\(\\leq\\)}  N \\quad \\text{\\(\\land\\)} \\quad j  \\text{\\(\\geq\\)}  4 \\quad \\text{\\(\\land\\)} \\quad j  \\text{\\(\\leq\\)}  N \\quad \\text{\\(\\implies\\)} \\quad mat[i][j]==0$ \n",
    "\n",
    "Todas estas implicações podem ser reescritas apenas com o uso de conjunções e negações, visto que fórmulas $a  \\text{\\(\\land\\)} b   \\text{\\(\\iff\\)} \\text{\\(\\neg\\)} (a  \\text{\\(\\land\\)}  \\text{\\(\\neg\\)}b)$ são equivalentes, ou seja, têm o mesmo valor lógico."
   ]
  },
  {
   "cell_type": "code",
   "execution_count": 3,
   "id": "5cb23b98",
   "metadata": {},
   "outputs": [],
   "source": [
    "def init(state,i,j):\n",
    "    #adicionar random.choices \n",
    "    A=Not(And(\n",
    "        GE(Int(i),Int(1)),\n",
    "        LE(Int(i),Int(3)),\n",
    "        GE(Int(j),Int(1)),\n",
    "        LE(Int(j),Int(3)),\n",
    "        Not(Equals(state['mat'][i][j],Int(1)))\n",
    "    ))\n",
    "    B=Not(And(\n",
    "        GE(Int(i),Int(4)),\n",
    "        LE(Int(i),Int(n-1)),\n",
    "        GE(Int(j),Int(1)),\n",
    "        LE(Int(j),Int(n-1)),\n",
    "        Not(Equals(state['mat'][i][j],Int(0)))\n",
    "    ))\n",
    "    C=Not(And(\n",
    "        GE(Int(i),Int(1)),\n",
    "        LE(Int(i),Int(n-1)),\n",
    "        GE(Int(j),Int(4)),\n",
    "        LE(Int(j),Int(n-1)),\n",
    "        Not(Equals(state['mat'][i][j],Int(0)))\n",
    "    ))\n",
    "    D=And(LE(state['mat'][i][j],Int(1)), GE(state['mat'][i][j],Int(0)))\n",
    "    \n",
    "    E=Not(And(\n",
    "        Or(Equals(Int(i),Int(0)),Equals(Int(j),Int(0))),\n",
    "        Not(Equals(state['mat'][i][j],Int(random.choice([0 , 1]))))\n",
    "    ))\n",
    "        \n",
    "    return And(A,B,C,D,E)    "
   ]
  },
  {
   "cell_type": "markdown",
   "id": "17bed106",
   "metadata": {},
   "source": [
    "Para auxílio, temos a função $sao\\_viz$ que dadas duas posições $(i0,j0)$ $(i1,j1)$, testa se correspondem a duas posições vizinhas.\n",
    "\n",
    "Ainda definimos a função $soma\\_viz$ que dada um estado $S$ e uma posição$(i, j)$, retorna a soma de todos os seus vizinhos na matriz."
   ]
  },
  {
   "cell_type": "code",
   "execution_count": 4,
   "id": "92ea8574",
   "metadata": {},
   "outputs": [],
   "source": [
    "def sao_viz(i0, j0, i1, j1):\n",
    "    return (i0 != i1 or j0 != j1) and abs(i0 - i1) <= 1 and abs(j0 - j1) <= 1\n",
    "\n",
    "def soma_viz(state,i0,j0):\n",
    "    x=0\n",
    "    for i in range(n):\n",
    "        for j in range(n):\n",
    "            if sao_viz(i0,j0,i,j):\n",
    "                x=x+state['mat'][i][j]\n",
    "    return x"
   ]
  },
  {
   "cell_type": "markdown",
   "id": "1dbd4692",
   "metadata": {},
   "source": [
    "Definimos agora a função transição que recebe dois estados como argumento e uma posição $(i,j)$, o estado atual $(curr)$ e o estado $(prox)$ a transitar para, e verifica se esses dois estados se referem a uma transição válida.\n",
    "Dependendo da posição passada como argumento temos as seguintes transições possíveis:"
   ]
  },
  {
   "cell_type": "markdown",
   "id": "19920eb3",
   "metadata": {},
   "source": [
    "- $(i == 0 \\quad \\text{\\(\\lor\\)} \\quad j == 0) \\quad \\text{\\(\\land\\)} \\quad curr(mat[i][j]) == prox(mat[i][j])$\n",
    "\n",
    "- $ i  \\text{\\(\\geq\\)}  1 \\quad \\text{\\(\\land\\)} \\quad i  \\text{\\(\\leq\\)}  N \\quad \\text{\\(\\land\\)} \\quad j  \\text{\\(\\geq\\)}  1 \\quad \\text{\\(\\land\\)} \\quad j  \\text{\\(\\leq\\)}  N \\quad \\text{\\(\\land\\)} \\quad curr(mat[i][j])==0 \\quad \\text{\\(\\land\\)} \\quad curr(viz[i][j])==3 \\quad \\text{\\(\\implies\\)} \\quad prox(mat[i][j])==1 $\n",
    "\n",
    "- $ i  \\text{\\(\\geq\\)}  1 \\quad \\text{\\(\\land\\)} \\quad i  \\text{\\(\\leq\\)}  N \\quad \\text{\\(\\land\\)} \\quad j  \\text{\\(\\geq\\)}  1 \\quad \\text{\\(\\land\\)} \\quad j  \\text{\\(\\leq\\)}  N \\quad \\text{\\(\\land\\)} \\quad curr(mat[i][j])==0 \\quad \\text{\\(\\land\\)} \\quad curr(viz[i][j])\\text{\\(\\neq\\)} 3 \\quad \\text{\\(\\implies\\)} \\quad prox(mat[i][j])==0 $\n",
    "\n",
    "- $ (i  \\text{\\(\\geq\\)}  1)  \\text{\\(\\land\\)} (i  \\text{\\(\\leq\\)}  N) \\text{\\(\\land\\)} (j  \\text{\\(\\geq\\)}  1) \\text{\\(\\land\\)} (j  \\text{\\(\\leq\\)}  N) \\text{\\(\\land\\)} (curr(mat[i][j])==1) \\text{\\(\\land\\)} (curr(viz[i][j])==3 \\text{\\(\\lor\\)} curr(viz[i][j])==2) \\quad \\text{\\(\\implies\\)} \\quad prox(mat[i][j])==1 $\n",
    "\n",
    "- $ (i  \\text{\\(\\geq\\)}  1)\\text{\\(\\land\\)}(i  \\text{\\(\\leq\\)}  N) \\text{\\(\\land\\)} (j  \\text{\\(\\geq\\)}  1)\\text{\\(\\land\\)} (j  \\text{\\(\\leq\\)}  N) \\text{\\(\\land\\)} (curr(mat[i][j])==1) \\text{\\(\\land\\)} \\text{\\(\\neg\\)}(curr(viz[i][j])==3 \\quad\\text{\\(\\lor\\)}\\quad curr(viz[i][j])==2) \\quad \\text{\\(\\implies\\)} \\quad prox(mat[i][j])==0 $\n",
    "\n",
    "Temos, também que, para qualquer transição:\n",
    "- $curr(viz[i][j])==soma\\_viz(curr,i,j)$"
   ]
  },
  {
   "cell_type": "code",
   "execution_count": 5,
   "id": "871b1394",
   "metadata": {},
   "outputs": [],
   "source": [
    "def trans(curr,prox,i,j):\n",
    "    #CELULAS DE BORDO SÃO SEMPRE IGUAIS\n",
    "    A=Equals(Int(i),Int(0))\n",
    "    B=LE(Int(j),Int(n-1))\n",
    "    C=Equals(curr['mat'][i][j],prox['mat'][i][j])\n",
    "    D=Equals(curr['viz'][i][j],soma_viz(curr,i,j))\n",
    "    b1=And(A,B,C,D)\n",
    "    \n",
    "    A=Equals(Int(j),Int(0))\n",
    "    B=LE(Int(i),Int(n-1))\n",
    "    C=Equals(curr['mat'][i][j],prox['mat'][i][j])\n",
    "    D=Equals(curr['viz'][i][j],soma_viz(curr,i,j))\n",
    "    b2=And(A,B,C,D)\n",
    "    \n",
    "    #SO NASCE SE TEM 3 VIZINHOS VIVOS\n",
    "    A=GE(Int(i),Int(1))\n",
    "    B=LE(Int(i),Int(n-1))\n",
    "    C=GE(Int(j),Int(1))\n",
    "    D=LE(Int(j),Int(n-1))\n",
    "    E=Equals(curr['mat'][i][j],Int(0))\n",
    "    F=Equals(curr['viz'][i][j],Int(3))\n",
    "    G=Equals(prox['mat'][i][j],Int(1))\n",
    "    H=Equals(curr['viz'][i][j],soma_viz(curr,i,j))\n",
    "    v1=And(A,B,C,D,E,F,G,H)\n",
    "    \n",
    "    A=GE(Int(i),Int(1))\n",
    "    B=LE(Int(i),Int(n-1))\n",
    "    C=GE(Int(j),Int(1))\n",
    "    D=LE(Int(j),Int(n-1))\n",
    "    E=Equals(curr['mat'][i][j],Int(0))\n",
    "    F=Not(Equals(curr['viz'][i][j],Int(3)))\n",
    "    G=Equals(prox['mat'][i][j],Int(0))\n",
    "    H=Equals(curr['viz'][i][j],soma_viz(curr,i,j))\n",
    "    v2=And(A,B,C,D,E,F,G,H)\n",
    "        \n",
    "    #SO NASCE SE TEM 3 OU 2 VIZINHOS VIVOS\n",
    "    A=GE(Int(i),Int(1))\n",
    "    B=LE(Int(i),Int(n-1))\n",
    "    C=GE(Int(j),Int(1))\n",
    "    D=LE(Int(j),Int(n-1))\n",
    "    E=Equals(curr['mat'][i][j],Int(1))\n",
    "    F=Or(Equals(curr['viz'][i][j],Int(3)),Equals(curr['viz'][i][j],Int(2)))\n",
    "    G=Equals(prox['mat'][i][j],Int(1))\n",
    "    H=Equals(curr['viz'][i][j],soma_viz(curr,i,j))\n",
    "    v3=And(A,B,C,D,E,F,G,H)\n",
    "\n",
    "    A=GE(Int(i),Int(1))\n",
    "    B=LE(Int(i),Int(n-1))\n",
    "    C=GE(Int(j),Int(1))\n",
    "    D=LE(Int(j),Int(n-1))\n",
    "    E=Equals(curr['mat'][i][j],Int(1))\n",
    "    F=Not(Or(Equals(curr['viz'][i][j],Int(3)),Equals(curr['viz'][i][j],Int(2))))\n",
    "    G=Equals(prox['mat'][i][j],Int(0))\n",
    "    H=Equals(curr['viz'][i][j],soma_viz(curr,i,j))\n",
    "    v4=And(A,B,C,D,E,F,G,H)\n",
    "    \n",
    "    return Or(b1,b2,v1,v2,v3,v4)"
   ]
  },
  {
   "cell_type": "markdown",
   "id": "ddd35dc2",
   "metadata": {},
   "source": [
    "Por ultimo, temos a função $gera$, que cria uma lista \"traço\" de k estados em que:\n",
    "\n",
    "- Aplicamos a função init ao primeiro estado:  $init (traco[0])$\n",
    "\n",
    "- Para todos estado consecutivos, aplicamos a função transição:  $\\forall_{i=0}^{k-2}$ $trans (traco[i], traco[i+1])$"
   ]
  },
  {
   "cell_type": "code",
   "execution_count": 6,
   "id": "3f36bfe7",
   "metadata": {},
   "outputs": [],
   "source": [
    "def gera(declare,init,trans,k):\n",
    "\n",
    "    with Solver() as solver:\n",
    "        traco=[]\n",
    "        for i in range(k):\n",
    "            x=declare(i)\n",
    "            traco.append(x)\n",
    "\n",
    "        for i in range(n):\n",
    "            for j in range(n):\n",
    "                solver.add_assertion(init(traco[0],i,j))\n",
    "                    \n",
    "        for t in range(k-1):\n",
    "            for i in range(n):\n",
    "                for j in range(n):\n",
    "                    solver.add_assertion(trans(traco[t],traco[t+1],i,j))\n",
    "            \n",
    "        if solver.solve():\n",
    "            print(\"> is sat\")\n",
    "            for t in range(k):\n",
    "                print(\"ESTADO %s\"%(t))\n",
    "                print(\"\")\n",
    "                for i in range(n):\n",
    "                    for j in range(n):\n",
    "                        print(solver.get_value(traco[t]['mat'][i][j]),end=\" \")\n",
    "                    print(\"\")\n",
    "                print(\"\")\n",
    "        else:\n",
    "            print(\"> not sat\")"
   ]
  },
  {
   "cell_type": "markdown",
   "id": "1152d167",
   "metadata": {},
   "source": [
    "${\\normalsize\\text{Pretende-se provar as seguintes propriedades:}}$ \n",
    "1. Nunca se alcança o estado de erro.\n",
    "\n",
    "Um dado estado $S$, é considerado estado de erro quando todas as celulas normais da matriz se encontram mortas, ou seja:\n",
    "- $\\forall_{i=1}^{N}$ $S(mat[i][j])==0$\n",
    "\n",
    "Consideremos o predicado da função $cel\\_nao\\_morta$, que dado um estado, e uma posição $(i,j)$ testa se esta célula se encontra viva."
   ]
  },
  {
   "cell_type": "code",
   "execution_count": 7,
   "id": "d7867816",
   "metadata": {},
   "outputs": [],
   "source": [
    "def cel_nao_morta(state,i,j):\n",
    "    return Equals(state['mat'][i][j],Int(1))"
   ]
  },
  {
   "cell_type": "markdown",
   "id": "230afae5",
   "metadata": {},
   "source": [
    "- Podemos então considerar a função $mat\\_nao\\_morta$, que dado um estado $S$, calcula $\\forall_{i=1}^{N}$ $\\forall_{j=1}^{N}$ $cel\\_nao\\_morta(S,i,j)$, guardando os vários resultados, por último aplica uma disjunção entre estes.\n",
    "No fundo, este predicado testa se pelo menos uma célula normal da matriz se encontra viva."
   ]
  },
  {
   "cell_type": "code",
   "execution_count": 8,
   "id": "07cb3d09",
   "metadata": {},
   "outputs": [],
   "source": [
    "def mat_nao_morta(state):   \n",
    "    A=[]\n",
    "    for i in range(1,n):\n",
    "        for j in range(1,n):\n",
    "            A.append(cel_nao_morta(state,i,j))\n",
    "    return Or(A)"
   ]
  },
  {
   "cell_type": "markdown",
   "id": "f0b39627",
   "metadata": {},
   "source": [
    "2. Nenhuma célula normal está permanentemente morta ou permanentemente viva.\n",
    "- Consideremos a função $muda$ que dado um estado $S$ e uma posição $(i, j)$, devolve um predicado, que verifica se no próximo $S'$, $S'[mat][i][j]$ sofrerá alguma alteração, em comparação com o valor de $S[mat][i][j]$."
   ]
  },
  {
   "cell_type": "code",
   "execution_count": 9,
   "id": "f14bb49c",
   "metadata": {},
   "outputs": [],
   "source": [
    "#FUNCAO TESTA SE UMA CELULA NA MATRIZ,NAO ESTA ESTAGNADA, OU SEJA, PODE MUDAR NO PROXIMO ESTADO\n",
    "def muda(state,i,j): \n",
    "    A=And(Equals(state['mat'][i][j], Int(0)),Equals(state['viz'][i][j],Int(3)))\n",
    "    B=And(Equals(state['mat'][i][j], Int(1)), Or(Equals(state['viz'][i][j],Int(3)),Equals(state['viz'][i][j],Int(2))))\n",
    "    return Or(A,B)"
   ]
  },
  {
   "cell_type": "markdown",
   "id": "a84bf9e7",
   "metadata": {},
   "source": [
    "- Podemos agora desenvolver a função $n\\_estagnado$ que testa se dado um estado $S$, pelo menos uma das células normais não se encontra num estado estagnado, ou seja, não satistaz o predicado da função $muda$. Caso isto não se verifique, concluimos que todas as células normais do estado $S$ se encontram permanentemente mortas, ou vivas, para quaisqueres próximos estados $S'$ $S''$ $S'''$..."
   ]
  },
  {
   "cell_type": "code",
   "execution_count": 10,
   "id": "a931d019",
   "metadata": {},
   "outputs": [],
   "source": [
    "#FUNCAO QUE TESTA SE PELO MENOS UMA CELULA DA MATRIZ NAO ESTA ESTAGNADA\n",
    "def n_estagnado(state):\n",
    "    A=[]\n",
    "    for i in range(1,n):\n",
    "        for j in range(1,n):\n",
    "            A.append(muda(state,i,j))\n",
    "            \n",
    "    return Or(*A)"
   ]
  },
  {
   "cell_type": "markdown",
   "id": "c4d4a5a8",
   "metadata": {},
   "source": [
    "Mais uma vez, para verificar se o programa nunca atinge um estado, onde todas as células normais se encontram permanentemente vivas ou mortas, podemos novamente utilizar o método da $k\\_indução$, sendo desta vez o nosso invariante, a condição de que a partir de um estado $S$, para um estado $S'$ existe pelo menos uma célula normal $(i, j)$, tal que $S[mat][i][j] \\text{\\(\\neq\\)} S'[mat][i][j]$. Ou seja, satisfaz o predicado da função $n\\_estagnado$."
   ]
  },
  {
   "cell_type": "markdown",
   "id": "838a23bf",
   "metadata": {},
   "source": [
    "Para a verificação destas propriedados, vamos utilizar uma versão diferente do predicado $init$, uma versão em que a atribuição de valores para as células de borda, não tenha probabilidade de $1/2$, a atribuição dos valores às células normais será realizada diretamente pelo solver, com o intuito de procurar um contra exemplo aos invariantes a provar. Note-se, que, esta versão alterada da $init$, cumpre todos os pré-requesitos para um estado inicial, desde que as células de borda sejam limitadas entre $0$ e $1$. \n",
    "Seja então $init2$:"
   ]
  },
  {
   "cell_type": "code",
   "execution_count": 11,
   "id": "927a100e",
   "metadata": {},
   "outputs": [],
   "source": [
    "def init2(state,i,j): \n",
    "    A=Not(And(\n",
    "        GE(Int(i),Int(1)),\n",
    "        LE(Int(i),Int(3)),\n",
    "        GE(Int(j),Int(1)),\n",
    "        LE(Int(j),Int(3)),\n",
    "        Not(Equals(state['mat'][i][j],Int(1)))\n",
    "    ))\n",
    "    B=Not(And(\n",
    "        GE(Int(i),Int(4)),\n",
    "        LE(Int(i),Int(n-1)),\n",
    "        GE(Int(j),Int(1)),\n",
    "        LE(Int(j),Int(n-1)),\n",
    "        Not(Equals(state['mat'][i][j],Int(0)))\n",
    "    ))\n",
    "    C=Not(And(\n",
    "        GE(Int(i),Int(1)),\n",
    "        LE(Int(i),Int(n-1)),\n",
    "        GE(Int(j),Int(4)),\n",
    "        LE(Int(j),Int(n-1)),\n",
    "        Not(Equals(state['mat'][i][j],Int(0)))\n",
    "    ))\n",
    "    \n",
    "    D=And(LE(state['mat'][i][j],Int(1)), GE(state['mat'][i][j],Int(0)))\n",
    "    \n",
    "    return And(A,B,C,D)    "
   ]
  },
  {
   "cell_type": "markdown",
   "id": "094e6637",
   "metadata": {},
   "source": [
    "Queremos verificar que o programa nunca atinge um estado de erro, e que nenhuma célula normal está permanentemente morta ou permanentemente viva. Para verificar estas duas propriedades, podemos utilizar o método da $k\\_induction$, já utilizado no problema anterior, juntamente com a função $init2$, como referida anteriormente."
   ]
  },
  {
   "cell_type": "code",
   "execution_count": 12,
   "id": "5dd1042d",
   "metadata": {},
   "outputs": [],
   "source": [
    "def k_induction_always(declare,init2,trans,inv,k):\n",
    "\n",
    "    with Solver() as solver:\n",
    "        s = [declare(i) for i in range(k)]\n",
    "        \n",
    "        for i in range(n):\n",
    "            for j in range(n):\n",
    "                solver.add_assertion(init2(s[0],i,j))\n",
    "                solver.add_assertion(GE(s[0]['mat'][i][j],Int(0)))\n",
    "                solver.add_assertion(LE(s[0]['mat'][i][j],Int(1)))\n",
    "        for t in range(k-1):\n",
    "            for i in range(n):\n",
    "                for j in range(n):\n",
    "                    solver.add_assertion(trans(s[t],s[t+1],i,j))\n",
    "            \n",
    "        for i in range(k):\n",
    "            solver.push()\n",
    "            solver.add_assertion(Not(inv(s[i])))\n",
    "            if solver.solve():\n",
    "                print(f\"> Contradição! O invariante não se verifica nos k estados iniciais.\")\n",
    "                for t,state in enumerate(s):\n",
    "                    print(\"estado: (%s)\"%t)\n",
    "                    for i in range(n):\n",
    "                        for j in range(n):\n",
    "                            print(solver.get_value(state['mat'][i][j]),end=\" \")\n",
    "                        print(\"\")\n",
    "                    print(\"-----------------------------------------------\")\n",
    "                    print(\"\")\n",
    "                    \n",
    "                return\n",
    "            solver.pop()\n",
    "        \n",
    "        s2 = [declare(i+k) for i in range(k+1)]\n",
    "\n",
    "        for t in range(k):\n",
    "            solver.add_assertion(inv(s2[t]))\n",
    "            for i in range(n):\n",
    "                for j in range(n):\n",
    "                    solver.add_assertion(trans(s2[t],s2[t+1],i,j))\n",
    "                \n",
    "        solver.add_assertion(Not(inv(s2[-1])))\n",
    "        \n",
    "        if solver.solve():\n",
    "            print(f\"> Contradição! O passo indutivo não se verifica.\")\n",
    "            for t,state in enumerate(s2):\n",
    "                print(\"estado: %s\"%t)\n",
    "                for i in range(n):\n",
    "                    for j in range(n):\n",
    "                        print(solver.get_value(state['mat'][i][j]),end=\" \")\n",
    "                    print(\"\")\n",
    "                print(\"-------------------------------------------\")\n",
    "                print(\"\")\n",
    "            return\n",
    "        \n",
    "        print(f\"> A propriedade verifica-se por k-indução (k={k}).\")      "
   ]
  },
  {
   "cell_type": "code",
   "execution_count": 13,
   "id": "69cef010",
   "metadata": {},
   "outputs": [
    {
     "name": "stdout",
     "output_type": "stream",
     "text": [
      "> is sat\n",
      "ESTADO 0\n",
      "\n",
      "1 1 0 0 1 \n",
      "1 1 1 1 0 \n",
      "1 1 1 1 0 \n",
      "1 1 1 1 0 \n",
      "0 0 0 0 0 \n",
      "\n",
      "ESTADO 1\n",
      "\n",
      "1 1 0 0 1 \n",
      "1 0 0 0 1 \n",
      "1 0 0 0 1 \n",
      "1 0 0 1 0 \n",
      "0 1 1 0 0 \n",
      "\n",
      "ESTADO 2\n",
      "\n",
      "1 1 0 0 1 \n",
      "1 0 0 1 1 \n",
      "1 1 0 1 1 \n",
      "1 0 1 1 0 \n",
      "0 1 1 0 0 \n",
      "\n",
      "ESTADO 3\n",
      "\n",
      "1 1 0 0 1 \n",
      "1 0 0 0 0 \n",
      "1 0 0 0 0 \n",
      "1 0 0 0 1 \n",
      "0 1 1 1 0 \n",
      "\n",
      "ESTADO 4\n",
      "\n",
      "1 1 0 0 1 \n",
      "1 0 0 0 0 \n",
      "1 1 0 0 0 \n",
      "1 0 1 1 0 \n",
      "0 1 1 1 0 \n",
      "\n",
      "ESTADO 5\n",
      "\n",
      "1 1 0 0 1 \n",
      "1 0 0 0 0 \n",
      "1 0 1 0 0 \n",
      "1 0 0 1 0 \n",
      "0 1 0 1 0 \n",
      "\n",
      "ESTADO 6\n",
      "\n",
      "1 1 0 0 1 \n",
      "1 0 0 0 0 \n",
      "1 0 0 0 0 \n",
      "1 0 0 1 0 \n",
      "0 0 1 0 0 \n",
      "\n",
      "ESTADO 7\n",
      "\n",
      "1 1 0 0 1 \n",
      "1 0 0 0 0 \n",
      "1 1 0 0 0 \n",
      "1 1 0 0 0 \n",
      "0 0 0 0 0 \n",
      "\n",
      "ESTADO 8\n",
      "\n",
      "1 1 0 0 1 \n",
      "1 0 0 0 0 \n",
      "1 0 0 0 0 \n",
      "1 1 0 0 0 \n",
      "0 0 0 0 0 \n",
      "\n",
      "ESTADO 9\n",
      "\n",
      "1 1 0 0 1 \n",
      "1 0 0 0 0 \n",
      "1 0 0 0 0 \n",
      "1 1 0 0 0 \n",
      "0 0 0 0 0 \n",
      "\n"
     ]
    }
   ],
   "source": [
    "gera(declare,init,trans,10)"
   ]
  },
  {
   "cell_type": "code",
   "execution_count": 14,
   "id": "57e6d55e",
   "metadata": {},
   "outputs": [
    {
     "name": "stdout",
     "output_type": "stream",
     "text": [
      "> Contradição! O invariante não se verifica nos k estados iniciais.\n",
      "estado: (0)\n",
      "1 1 1 0 0 \n",
      "0 1 1 1 0 \n",
      "1 1 1 1 0 \n",
      "0 1 1 1 0 \n",
      "0 0 0 0 0 \n",
      "-----------------------------------------------\n",
      "\n",
      "estado: (1)\n",
      "1 1 1 0 0 \n",
      "0 0 0 0 0 \n",
      "1 0 0 0 1 \n",
      "0 0 0 1 0 \n",
      "0 0 1 0 0 \n",
      "-----------------------------------------------\n",
      "\n",
      "estado: (2)\n",
      "1 1 1 0 0 \n",
      "0 0 0 0 0 \n",
      "1 0 0 0 0 \n",
      "0 0 0 1 0 \n",
      "0 0 0 0 0 \n",
      "-----------------------------------------------\n",
      "\n",
      "estado: (3)\n",
      "1 1 1 0 0 \n",
      "0 0 0 0 0 \n",
      "1 0 0 0 0 \n",
      "0 0 0 0 0 \n",
      "0 0 0 0 0 \n",
      "-----------------------------------------------\n",
      "\n",
      "estado: (4)\n",
      "1 1 1 0 0 \n",
      "0 0 0 0 0 \n",
      "1 0 0 0 0 \n",
      "0 0 0 0 0 \n",
      "0 0 0 0 0 \n",
      "-----------------------------------------------\n",
      "\n",
      "estado: (5)\n",
      "1 1 1 0 0 \n",
      "0 0 0 0 0 \n",
      "1 0 0 0 0 \n",
      "0 0 0 0 0 \n",
      "0 0 0 0 0 \n",
      "-----------------------------------------------\n",
      "\n",
      "estado: (6)\n",
      "1 1 1 0 0 \n",
      "0 0 0 0 0 \n",
      "1 0 0 0 0 \n",
      "0 0 0 0 0 \n",
      "0 0 0 0 0 \n",
      "-----------------------------------------------\n",
      "\n",
      "estado: (7)\n",
      "1 1 1 0 0 \n",
      "0 0 0 0 0 \n",
      "1 0 0 0 0 \n",
      "0 0 0 0 0 \n",
      "0 0 0 0 0 \n",
      "-----------------------------------------------\n",
      "\n",
      "estado: (8)\n",
      "1 1 1 0 0 \n",
      "0 0 0 0 0 \n",
      "1 0 0 0 0 \n",
      "0 0 0 0 0 \n",
      "0 0 0 0 0 \n",
      "-----------------------------------------------\n",
      "\n",
      "estado: (9)\n",
      "1 1 1 0 0 \n",
      "0 0 0 0 0 \n",
      "1 0 0 0 0 \n",
      "0 0 0 0 0 \n",
      "0 0 0 0 0 \n",
      "-----------------------------------------------\n",
      "\n",
      "estado: (10)\n",
      "1 1 1 0 0 \n",
      "0 0 0 0 0 \n",
      "1 0 0 0 0 \n",
      "0 0 0 0 0 \n",
      "0 0 0 0 0 \n",
      "-----------------------------------------------\n",
      "\n",
      "estado: (11)\n",
      "1 1 1 0 0 \n",
      "0 0 0 0 0 \n",
      "1 0 0 0 0 \n",
      "0 0 0 0 0 \n",
      "0 0 0 0 0 \n",
      "-----------------------------------------------\n",
      "\n",
      "estado: (12)\n",
      "1 1 1 0 0 \n",
      "0 0 0 0 0 \n",
      "1 0 0 0 0 \n",
      "0 0 0 0 0 \n",
      "0 0 0 0 0 \n",
      "-----------------------------------------------\n",
      "\n",
      "estado: (13)\n",
      "1 1 1 0 0 \n",
      "0 0 0 0 0 \n",
      "1 0 0 0 0 \n",
      "0 0 0 0 0 \n",
      "0 0 0 0 0 \n",
      "-----------------------------------------------\n",
      "\n",
      "estado: (14)\n",
      "1 1 1 0 0 \n",
      "0 0 0 0 0 \n",
      "1 0 0 0 0 \n",
      "0 0 0 0 0 \n",
      "0 0 0 0 0 \n",
      "-----------------------------------------------\n",
      "\n",
      "estado: (15)\n",
      "1 1 1 0 0 \n",
      "0 0 0 0 0 \n",
      "1 0 0 0 0 \n",
      "0 0 0 0 0 \n",
      "0 0 0 0 0 \n",
      "-----------------------------------------------\n",
      "\n",
      "estado: (16)\n",
      "1 1 1 0 0 \n",
      "0 0 0 0 0 \n",
      "1 0 0 0 0 \n",
      "0 0 0 0 0 \n",
      "0 0 0 0 0 \n",
      "-----------------------------------------------\n",
      "\n",
      "estado: (17)\n",
      "1 1 1 0 0 \n",
      "0 0 0 0 0 \n",
      "1 0 0 0 0 \n",
      "0 0 0 0 0 \n",
      "0 0 0 0 0 \n",
      "-----------------------------------------------\n",
      "\n",
      "estado: (18)\n",
      "1 1 1 0 0 \n",
      "0 0 0 0 0 \n",
      "1 0 0 0 0 \n",
      "0 0 0 0 0 \n",
      "0 0 0 0 0 \n",
      "-----------------------------------------------\n",
      "\n",
      "estado: (19)\n",
      "1 1 1 0 0 \n",
      "0 0 0 0 0 \n",
      "1 0 0 0 0 \n",
      "0 0 0 0 0 \n",
      "0 0 0 0 0 \n",
      "-----------------------------------------------\n",
      "\n"
     ]
    }
   ],
   "source": [
    "k_induction_always(declare,init2,trans,mat_nao_morta, 20)"
   ]
  },
  {
   "cell_type": "code",
   "execution_count": 15,
   "id": "af9b1b12",
   "metadata": {},
   "outputs": [
    {
     "name": "stdout",
     "output_type": "stream",
     "text": [
      "> Contradição! O invariante não se verifica nos k estados iniciais.\n",
      "estado: (0)\n",
      "0 0 1 0 0 \n",
      "0 1 1 1 0 \n",
      "1 1 1 1 0 \n",
      "0 1 1 1 0 \n",
      "0 0 0 0 0 \n",
      "-----------------------------------------------\n",
      "\n",
      "estado: (1)\n",
      "0 0 1 0 0 \n",
      "0 0 0 0 0 \n",
      "1 0 0 0 1 \n",
      "0 0 0 1 0 \n",
      "0 0 1 0 0 \n",
      "-----------------------------------------------\n",
      "\n",
      "estado: (2)\n",
      "0 0 1 0 0 \n",
      "0 0 0 0 0 \n",
      "1 0 0 0 0 \n",
      "0 0 0 1 0 \n",
      "0 0 0 0 0 \n",
      "-----------------------------------------------\n",
      "\n",
      "estado: (3)\n",
      "0 0 1 0 0 \n",
      "0 0 0 0 0 \n",
      "1 0 0 0 0 \n",
      "0 0 0 0 0 \n",
      "0 0 0 0 0 \n",
      "-----------------------------------------------\n",
      "\n",
      "estado: (4)\n",
      "0 0 1 0 0 \n",
      "0 0 0 0 0 \n",
      "1 0 0 0 0 \n",
      "0 0 0 0 0 \n",
      "0 0 0 0 0 \n",
      "-----------------------------------------------\n",
      "\n",
      "estado: (5)\n",
      "0 0 1 0 0 \n",
      "0 0 0 0 0 \n",
      "1 0 0 0 0 \n",
      "0 0 0 0 0 \n",
      "0 0 0 0 0 \n",
      "-----------------------------------------------\n",
      "\n",
      "estado: (6)\n",
      "0 0 1 0 0 \n",
      "0 0 0 0 0 \n",
      "1 0 0 0 0 \n",
      "0 0 0 0 0 \n",
      "0 0 0 0 0 \n",
      "-----------------------------------------------\n",
      "\n",
      "estado: (7)\n",
      "0 0 1 0 0 \n",
      "0 0 0 0 0 \n",
      "1 0 0 0 0 \n",
      "0 0 0 0 0 \n",
      "0 0 0 0 0 \n",
      "-----------------------------------------------\n",
      "\n",
      "estado: (8)\n",
      "0 0 1 0 0 \n",
      "0 0 0 0 0 \n",
      "1 0 0 0 0 \n",
      "0 0 0 0 0 \n",
      "0 0 0 0 0 \n",
      "-----------------------------------------------\n",
      "\n",
      "estado: (9)\n",
      "0 0 1 0 0 \n",
      "0 0 0 0 0 \n",
      "1 0 0 0 0 \n",
      "0 0 0 0 0 \n",
      "0 0 0 0 0 \n",
      "-----------------------------------------------\n",
      "\n",
      "estado: (10)\n",
      "0 0 1 0 0 \n",
      "0 0 0 0 0 \n",
      "1 0 0 0 0 \n",
      "0 0 0 0 0 \n",
      "0 0 0 0 0 \n",
      "-----------------------------------------------\n",
      "\n",
      "estado: (11)\n",
      "0 0 1 0 0 \n",
      "0 0 0 0 0 \n",
      "1 0 0 0 0 \n",
      "0 0 0 0 0 \n",
      "0 0 0 0 0 \n",
      "-----------------------------------------------\n",
      "\n",
      "estado: (12)\n",
      "0 0 1 0 0 \n",
      "0 0 0 0 0 \n",
      "1 0 0 0 0 \n",
      "0 0 0 0 0 \n",
      "0 0 0 0 0 \n",
      "-----------------------------------------------\n",
      "\n",
      "estado: (13)\n",
      "0 0 1 0 0 \n",
      "0 0 0 0 0 \n",
      "1 0 0 0 0 \n",
      "0 0 0 0 0 \n",
      "0 0 0 0 0 \n",
      "-----------------------------------------------\n",
      "\n",
      "estado: (14)\n",
      "0 0 1 0 0 \n",
      "0 0 0 0 0 \n",
      "1 0 0 0 0 \n",
      "0 0 0 0 0 \n",
      "0 0 0 0 0 \n",
      "-----------------------------------------------\n",
      "\n"
     ]
    }
   ],
   "source": [
    "k_induction_always(declare,init2,trans,n_estagnado,15)"
   ]
  },
  {
   "cell_type": "markdown",
   "id": "777cb43e",
   "metadata": {},
   "source": [
    "${\\LARGE\\text{Impressão dos resultados obtidos}}$"
   ]
  },
  {
   "cell_type": "markdown",
   "id": "4c4a2e9d",
   "metadata": {},
   "source": [
    "$gera(declare,init,trans,10)$"
   ]
  },
  {
   "attachments": {
    "2023-10-25%20%281%29.png": {
     "image/png": "[encoded data removed]"
    }
   },
   "cell_type": "markdown",
   "id": "96318b51",
   "metadata": {},
   "source": [
    "![2023-10-25%20%281%29.png](attachment:2023-10-25%20%281%29.png)"
   ]
  },
  {
   "attachments": {
    "2023-10-25%20%282%29.png": {
     "image/png": "[encoded data removed]"
    }
   },
   "cell_type": "markdown",
   "id": "528448ec",
   "metadata": {},
   "source": [
    "![2023-10-25%20%282%29.png](attachment:2023-10-25%20%282%29.png)"
   ]
  },
  {
   "cell_type": "markdown",
   "id": "a589e455",
   "metadata": {},
   "source": [
    "$k\\_induction\\_always(declare,init2,trans,mat\\_nao\\_morta, 20)$"
   ]
  },
  {
   "attachments": {
    "Screenshot%20%2856%29.png": {
     "image/png": "[encoded data removed]"
    }
   },
   "cell_type": "markdown",
   "id": "2876d829",
   "metadata": {},
   "source": [
    "![Screenshot%20%2856%29.png](attachment:Screenshot%20%2856%29.png)"
   ]
  },
  {
   "attachments": {
    "Screenshot%20%2857%29.png": {
     "image/png": "[encoded data removed]"
    }
   },
   "cell_type": "markdown",
   "id": "61448327",
   "metadata": {},
   "source": [
    "![Screenshot%20%2857%29.png](attachment:Screenshot%20%2857%29.png)"
   ]
  },
  {
   "cell_type": "markdown",
   "id": "82551211",
   "metadata": {},
   "source": [
    "$k\\_induction\\_always(declare,init2,trans,n\\_estagnado,15)$"
   ]
  },
  {
   "attachments": {
    "Screenshot_64.png": {
     "image/png": "[encoded data removed]"
    }
   },
   "cell_type": "markdown",
   "id": "b96dfd4c",
   "metadata": {},
   "source": [
    "![Screenshot_64.png](attachment:Screenshot_64.png)"
   ]
  },
  {
   "attachments": {
    "Screenshot_65.png": {
     "image/png": "[encoded data removed]"
    }
   },
   "cell_type": "markdown",
   "id": "50286c61",
   "metadata": {},
   "source": [
    "![Screenshot_65.png](attachment:Screenshot_65.png)"
   ]
  },
  {
   "cell_type": "markdown",
   "id": "adb57666",
   "metadata": {},
   "source": [
    "Como podemos ver, tanto existe uma configuração inicial possível e válida que conduz o programa a estado de erro como outra que leva o programa a estagnar, isto é, em que algumas células se encontram permanentemente vivas ou mortas.\n",
    "Concluimos então que o programa não é seguro."
   ]
  }
 ],
 "metadata": {
  "kernelspec": {
   "display_name": "Python 3 (ipykernel)",
   "language": "python",
   "name": "python3"
  },
  "language_info": {
   "codemirror_mode": {
    "name": "ipython",
    "version": 3
   },
   "file_extension": ".py",
   "mimetype": "text/x-python",
   "name": "python",
   "nbconvert_exporter": "python",
   "pygments_lexer": "ipython3",
   "version": "3.10.13"
  }
 },
 "nbformat": 4,
 "nbformat_minor": 5
}
